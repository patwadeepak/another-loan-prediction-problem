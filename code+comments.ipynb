{
 "cells": [
  {
   "cell_type": "markdown",
   "metadata": {
    "heading_collapsed": true
   },
   "source": [
    "## Importing libraries and reading files"
   ]
  },
  {
   "cell_type": "code",
   "execution_count": 1,
   "metadata": {
    "ExecuteTime": {
     "end_time": "2019-07-14T17:12:51.068830Z",
     "start_time": "2019-07-14T17:12:51.065811Z"
    },
    "hidden": true
   },
   "outputs": [],
   "source": [
    "# To suppress warnings\n",
    "import warnings\n",
    "warnings.filterwarnings(\"ignore\")"
   ]
  },
  {
   "cell_type": "code",
   "execution_count": 2,
   "metadata": {
    "ExecuteTime": {
     "end_time": "2019-07-14T17:12:52.829390Z",
     "start_time": "2019-07-14T17:12:51.072793Z"
    },
    "hidden": true
   },
   "outputs": [],
   "source": [
    "# Importing libraries\n",
    "import numpy as np\n",
    "import pandas as pd\n",
    "import matplotlib.pyplot as plt\n",
    "%matplotlib inline\n",
    "import seaborn as sns\n",
    "import math"
   ]
  },
  {
   "cell_type": "code",
   "execution_count": 3,
   "metadata": {
    "ExecuteTime": {
     "end_time": "2019-07-14T17:12:52.948031Z",
     "start_time": "2019-07-14T17:12:52.830347Z"
    },
    "hidden": true
   },
   "outputs": [],
   "source": [
    "# Reading loan_table.csv from disk using pandas\n",
    "loan = pd.read_csv('loan_table.csv')"
   ]
  },
  {
   "cell_type": "code",
   "execution_count": 4,
   "metadata": {
    "ExecuteTime": {
     "end_time": "2019-07-14T17:12:53.236302Z",
     "start_time": "2019-07-14T17:12:52.949030Z"
    },
    "hidden": true
   },
   "outputs": [],
   "source": [
    "# Reading borrower_table.csv from disk using pandas\n",
    "bor = pd.read_csv('borrower_table.csv')"
   ]
  },
  {
   "cell_type": "markdown",
   "metadata": {
    "heading_collapsed": true
   },
   "source": [
    "## Data Understanding"
   ]
  },
  {
   "cell_type": "markdown",
   "metadata": {
    "heading_collapsed": true,
    "hidden": true
   },
   "source": [
    "### Examining the data"
   ]
  },
  {
   "cell_type": "code",
   "execution_count": 5,
   "metadata": {
    "ExecuteTime": {
     "end_time": "2019-07-14T17:12:53.247231Z",
     "start_time": "2019-07-14T17:12:53.238256Z"
    },
    "hidden": true
   },
   "outputs": [
    {
     "data": {
      "text/html": [
       "<div>\n",
       "<style scoped>\n",
       "    .dataframe tbody tr th:only-of-type {\n",
       "        vertical-align: middle;\n",
       "    }\n",
       "\n",
       "    .dataframe tbody tr th {\n",
       "        vertical-align: top;\n",
       "    }\n",
       "\n",
       "    .dataframe thead th {\n",
       "        text-align: right;\n",
       "    }\n",
       "</style>\n",
       "<table border=\"1\" class=\"dataframe\">\n",
       "  <thead>\n",
       "    <tr style=\"text-align: right;\">\n",
       "      <th></th>\n",
       "      <th>loan_id</th>\n",
       "      <th>loan_purpose</th>\n",
       "      <th>date</th>\n",
       "      <th>loan_granted</th>\n",
       "      <th>loan_repaid</th>\n",
       "    </tr>\n",
       "  </thead>\n",
       "  <tbody>\n",
       "    <tr>\n",
       "      <th>0</th>\n",
       "      <td>19454</td>\n",
       "      <td>investment</td>\n",
       "      <td>2012-03-15</td>\n",
       "      <td>0</td>\n",
       "      <td>NaN</td>\n",
       "    </tr>\n",
       "    <tr>\n",
       "      <th>1</th>\n",
       "      <td>496811</td>\n",
       "      <td>investment</td>\n",
       "      <td>2012-01-17</td>\n",
       "      <td>0</td>\n",
       "      <td>NaN</td>\n",
       "    </tr>\n",
       "    <tr>\n",
       "      <th>2</th>\n",
       "      <td>929493</td>\n",
       "      <td>other</td>\n",
       "      <td>2012-02-09</td>\n",
       "      <td>0</td>\n",
       "      <td>NaN</td>\n",
       "    </tr>\n",
       "    <tr>\n",
       "      <th>3</th>\n",
       "      <td>580653</td>\n",
       "      <td>other</td>\n",
       "      <td>2012-06-27</td>\n",
       "      <td>1</td>\n",
       "      <td>1.0</td>\n",
       "    </tr>\n",
       "    <tr>\n",
       "      <th>4</th>\n",
       "      <td>172419</td>\n",
       "      <td>business</td>\n",
       "      <td>2012-05-21</td>\n",
       "      <td>1</td>\n",
       "      <td>0.0</td>\n",
       "    </tr>\n",
       "  </tbody>\n",
       "</table>\n",
       "</div>"
      ],
      "text/plain": [
       "   loan_id loan_purpose        date  loan_granted  loan_repaid\n",
       "0    19454   investment  2012-03-15             0          NaN\n",
       "1   496811   investment  2012-01-17             0          NaN\n",
       "2   929493        other  2012-02-09             0          NaN\n",
       "3   580653        other  2012-06-27             1          1.0\n",
       "4   172419     business  2012-05-21             1          0.0"
      ]
     },
     "execution_count": 5,
     "metadata": {},
     "output_type": "execute_result"
    }
   ],
   "source": [
    "# Observe the loan file\n",
    "loan.head()"
   ]
  },
  {
   "cell_type": "code",
   "execution_count": 6,
   "metadata": {
    "ExecuteTime": {
     "end_time": "2019-07-14T17:12:53.336356Z",
     "start_time": "2019-07-14T17:12:53.249227Z"
    },
    "hidden": true
   },
   "outputs": [
    {
     "data": {
      "text/plain": [
       "(101100, 5)"
      ]
     },
     "execution_count": 6,
     "metadata": {},
     "output_type": "execute_result"
    }
   ],
   "source": [
    "loan.shape"
   ]
  },
  {
   "cell_type": "code",
   "execution_count": 7,
   "metadata": {
    "ExecuteTime": {
     "end_time": "2019-07-14T17:12:53.450637Z",
     "start_time": "2019-07-14T17:12:53.337343Z"
    },
    "hidden": true
   },
   "outputs": [
    {
     "data": {
      "text/html": [
       "<div>\n",
       "<style scoped>\n",
       "    .dataframe tbody tr th:only-of-type {\n",
       "        vertical-align: middle;\n",
       "    }\n",
       "\n",
       "    .dataframe tbody tr th {\n",
       "        vertical-align: top;\n",
       "    }\n",
       "\n",
       "    .dataframe thead th {\n",
       "        text-align: right;\n",
       "    }\n",
       "</style>\n",
       "<table border=\"1\" class=\"dataframe\">\n",
       "  <thead>\n",
       "    <tr style=\"text-align: right;\">\n",
       "      <th></th>\n",
       "      <th>loan_id</th>\n",
       "      <th>is_first_loan</th>\n",
       "      <th>fully_repaid_previous_loans</th>\n",
       "      <th>currently_repaying_other_loans</th>\n",
       "      <th>total_credit_card_limit</th>\n",
       "      <th>avg_percentage_credit_card_limit_used_last_year</th>\n",
       "      <th>saving_amount</th>\n",
       "      <th>checking_amount</th>\n",
       "      <th>is_employed</th>\n",
       "      <th>yearly_salary</th>\n",
       "      <th>age</th>\n",
       "      <th>dependent_number</th>\n",
       "    </tr>\n",
       "  </thead>\n",
       "  <tbody>\n",
       "    <tr>\n",
       "      <th>0</th>\n",
       "      <td>289774</td>\n",
       "      <td>1</td>\n",
       "      <td>NaN</td>\n",
       "      <td>NaN</td>\n",
       "      <td>8000</td>\n",
       "      <td>0.49</td>\n",
       "      <td>3285</td>\n",
       "      <td>1073</td>\n",
       "      <td>0</td>\n",
       "      <td>0</td>\n",
       "      <td>47</td>\n",
       "      <td>3</td>\n",
       "    </tr>\n",
       "    <tr>\n",
       "      <th>1</th>\n",
       "      <td>482590</td>\n",
       "      <td>0</td>\n",
       "      <td>1.0</td>\n",
       "      <td>0.0</td>\n",
       "      <td>4500</td>\n",
       "      <td>1.03</td>\n",
       "      <td>636</td>\n",
       "      <td>5299</td>\n",
       "      <td>1</td>\n",
       "      <td>13500</td>\n",
       "      <td>33</td>\n",
       "      <td>1</td>\n",
       "    </tr>\n",
       "    <tr>\n",
       "      <th>2</th>\n",
       "      <td>135565</td>\n",
       "      <td>1</td>\n",
       "      <td>NaN</td>\n",
       "      <td>NaN</td>\n",
       "      <td>6900</td>\n",
       "      <td>0.82</td>\n",
       "      <td>2085</td>\n",
       "      <td>3422</td>\n",
       "      <td>1</td>\n",
       "      <td>24500</td>\n",
       "      <td>38</td>\n",
       "      <td>8</td>\n",
       "    </tr>\n",
       "    <tr>\n",
       "      <th>3</th>\n",
       "      <td>207797</td>\n",
       "      <td>0</td>\n",
       "      <td>1.0</td>\n",
       "      <td>0.0</td>\n",
       "      <td>1200</td>\n",
       "      <td>0.82</td>\n",
       "      <td>358</td>\n",
       "      <td>3388</td>\n",
       "      <td>0</td>\n",
       "      <td>0</td>\n",
       "      <td>24</td>\n",
       "      <td>1</td>\n",
       "    </tr>\n",
       "    <tr>\n",
       "      <th>4</th>\n",
       "      <td>828078</td>\n",
       "      <td>0</td>\n",
       "      <td>0.0</td>\n",
       "      <td>0.0</td>\n",
       "      <td>6900</td>\n",
       "      <td>0.80</td>\n",
       "      <td>2138</td>\n",
       "      <td>4282</td>\n",
       "      <td>1</td>\n",
       "      <td>18100</td>\n",
       "      <td>36</td>\n",
       "      <td>1</td>\n",
       "    </tr>\n",
       "  </tbody>\n",
       "</table>\n",
       "</div>"
      ],
      "text/plain": [
       "   loan_id  is_first_loan  fully_repaid_previous_loans  \\\n",
       "0   289774              1                          NaN   \n",
       "1   482590              0                          1.0   \n",
       "2   135565              1                          NaN   \n",
       "3   207797              0                          1.0   \n",
       "4   828078              0                          0.0   \n",
       "\n",
       "   currently_repaying_other_loans  total_credit_card_limit  \\\n",
       "0                             NaN                     8000   \n",
       "1                             0.0                     4500   \n",
       "2                             NaN                     6900   \n",
       "3                             0.0                     1200   \n",
       "4                             0.0                     6900   \n",
       "\n",
       "   avg_percentage_credit_card_limit_used_last_year  saving_amount  \\\n",
       "0                                             0.49           3285   \n",
       "1                                             1.03            636   \n",
       "2                                             0.82           2085   \n",
       "3                                             0.82            358   \n",
       "4                                             0.80           2138   \n",
       "\n",
       "   checking_amount  is_employed  yearly_salary  age  dependent_number  \n",
       "0             1073            0              0   47                 3  \n",
       "1             5299            1          13500   33                 1  \n",
       "2             3422            1          24500   38                 8  \n",
       "3             3388            0              0   24                 1  \n",
       "4             4282            1          18100   36                 1  "
      ]
     },
     "execution_count": 7,
     "metadata": {},
     "output_type": "execute_result"
    }
   ],
   "source": [
    "# Observe the borrower file\n",
    "bor.head()"
   ]
  },
  {
   "cell_type": "code",
   "execution_count": 8,
   "metadata": {
    "ExecuteTime": {
     "end_time": "2019-07-14T17:12:53.534397Z",
     "start_time": "2019-07-14T17:12:53.451634Z"
    },
    "hidden": true
   },
   "outputs": [
    {
     "data": {
      "text/plain": [
       "(101100, 12)"
      ]
     },
     "execution_count": 8,
     "metadata": {},
     "output_type": "execute_result"
    }
   ],
   "source": [
    "bor.shape"
   ]
  },
  {
   "cell_type": "markdown",
   "metadata": {
    "hidden": true
   },
   "source": [
    "There are exactly same records in loan file and borrower file with a common column `loan_id`"
   ]
  },
  {
   "cell_type": "markdown",
   "metadata": {
    "hidden": true
   },
   "source": [
    "Before we join both file based on `loan_id` column, lets check if they have exactly same loan ids or not"
   ]
  },
  {
   "cell_type": "code",
   "execution_count": 9,
   "metadata": {
    "ExecuteTime": {
     "end_time": "2019-07-14T17:12:53.645745Z",
     "start_time": "2019-07-14T17:12:53.535401Z"
    },
    "hidden": true
   },
   "outputs": [
    {
     "data": {
      "text/plain": [
       "True"
      ]
     },
     "execution_count": 9,
     "metadata": {},
     "output_type": "execute_result"
    }
   ],
   "source": [
    "set(loan.loan_id) == set(bor.loan_id)"
   ]
  },
  {
   "cell_type": "markdown",
   "metadata": {
    "ExecuteTime": {
     "end_time": "2019-07-13T09:38:01.998426Z",
     "start_time": "2019-07-13T09:38:01.984391Z"
    },
    "hidden": true
   },
   "source": [
    "Now that is out of the way, lets join them in one `DataFrame`"
   ]
  },
  {
   "cell_type": "markdown",
   "metadata": {
    "heading_collapsed": true,
    "hidden": true
   },
   "source": [
    "### Joining dataframes"
   ]
  },
  {
   "cell_type": "code",
   "execution_count": 10,
   "metadata": {
    "ExecuteTime": {
     "end_time": "2019-07-14T17:12:53.786632Z",
     "start_time": "2019-07-14T17:12:53.646741Z"
    },
    "hidden": true
   },
   "outputs": [],
   "source": [
    "df = loan.join(bor.set_index('loan_id'), on='loan_id')"
   ]
  },
  {
   "cell_type": "code",
   "execution_count": 11,
   "metadata": {
    "ExecuteTime": {
     "end_time": "2019-07-14T17:12:53.829495Z",
     "start_time": "2019-07-14T17:12:53.787608Z"
    },
    "hidden": true
   },
   "outputs": [
    {
     "data": {
      "text/plain": [
       "(101100, 16)"
      ]
     },
     "execution_count": 11,
     "metadata": {},
     "output_type": "execute_result"
    }
   ],
   "source": [
    "# Lets check the shape\n",
    "df.shape"
   ]
  },
  {
   "cell_type": "code",
   "execution_count": 12,
   "metadata": {
    "ExecuteTime": {
     "end_time": "2019-07-14T17:12:53.935212Z",
     "start_time": "2019-07-14T17:12:53.830493Z"
    },
    "hidden": true
   },
   "outputs": [
    {
     "data": {
      "text/html": [
       "<div>\n",
       "<style scoped>\n",
       "    .dataframe tbody tr th:only-of-type {\n",
       "        vertical-align: middle;\n",
       "    }\n",
       "\n",
       "    .dataframe tbody tr th {\n",
       "        vertical-align: top;\n",
       "    }\n",
       "\n",
       "    .dataframe thead th {\n",
       "        text-align: right;\n",
       "    }\n",
       "</style>\n",
       "<table border=\"1\" class=\"dataframe\">\n",
       "  <thead>\n",
       "    <tr style=\"text-align: right;\">\n",
       "      <th></th>\n",
       "      <th>loan_id</th>\n",
       "      <th>loan_purpose</th>\n",
       "      <th>date</th>\n",
       "      <th>loan_granted</th>\n",
       "      <th>loan_repaid</th>\n",
       "      <th>is_first_loan</th>\n",
       "      <th>fully_repaid_previous_loans</th>\n",
       "      <th>currently_repaying_other_loans</th>\n",
       "      <th>total_credit_card_limit</th>\n",
       "      <th>avg_percentage_credit_card_limit_used_last_year</th>\n",
       "      <th>saving_amount</th>\n",
       "      <th>checking_amount</th>\n",
       "      <th>is_employed</th>\n",
       "      <th>yearly_salary</th>\n",
       "      <th>age</th>\n",
       "      <th>dependent_number</th>\n",
       "    </tr>\n",
       "  </thead>\n",
       "  <tbody>\n",
       "    <tr>\n",
       "      <th>0</th>\n",
       "      <td>19454</td>\n",
       "      <td>investment</td>\n",
       "      <td>2012-03-15</td>\n",
       "      <td>0</td>\n",
       "      <td>NaN</td>\n",
       "      <td>1</td>\n",
       "      <td>NaN</td>\n",
       "      <td>NaN</td>\n",
       "      <td>8600</td>\n",
       "      <td>0.79</td>\n",
       "      <td>1491</td>\n",
       "      <td>6285</td>\n",
       "      <td>1</td>\n",
       "      <td>45200</td>\n",
       "      <td>42</td>\n",
       "      <td>7</td>\n",
       "    </tr>\n",
       "    <tr>\n",
       "      <th>1</th>\n",
       "      <td>496811</td>\n",
       "      <td>investment</td>\n",
       "      <td>2012-01-17</td>\n",
       "      <td>0</td>\n",
       "      <td>NaN</td>\n",
       "      <td>1</td>\n",
       "      <td>NaN</td>\n",
       "      <td>NaN</td>\n",
       "      <td>5300</td>\n",
       "      <td>0.52</td>\n",
       "      <td>141</td>\n",
       "      <td>5793</td>\n",
       "      <td>0</td>\n",
       "      <td>0</td>\n",
       "      <td>42</td>\n",
       "      <td>5</td>\n",
       "    </tr>\n",
       "    <tr>\n",
       "      <th>2</th>\n",
       "      <td>929493</td>\n",
       "      <td>other</td>\n",
       "      <td>2012-02-09</td>\n",
       "      <td>0</td>\n",
       "      <td>NaN</td>\n",
       "      <td>1</td>\n",
       "      <td>NaN</td>\n",
       "      <td>NaN</td>\n",
       "      <td>0</td>\n",
       "      <td>NaN</td>\n",
       "      <td>660</td>\n",
       "      <td>3232</td>\n",
       "      <td>1</td>\n",
       "      <td>26500</td>\n",
       "      <td>60</td>\n",
       "      <td>4</td>\n",
       "    </tr>\n",
       "    <tr>\n",
       "      <th>3</th>\n",
       "      <td>580653</td>\n",
       "      <td>other</td>\n",
       "      <td>2012-06-27</td>\n",
       "      <td>1</td>\n",
       "      <td>1.0</td>\n",
       "      <td>0</td>\n",
       "      <td>1.0</td>\n",
       "      <td>0.0</td>\n",
       "      <td>5400</td>\n",
       "      <td>0.52</td>\n",
       "      <td>3345</td>\n",
       "      <td>2764</td>\n",
       "      <td>1</td>\n",
       "      <td>15800</td>\n",
       "      <td>58</td>\n",
       "      <td>4</td>\n",
       "    </tr>\n",
       "    <tr>\n",
       "      <th>4</th>\n",
       "      <td>172419</td>\n",
       "      <td>business</td>\n",
       "      <td>2012-05-21</td>\n",
       "      <td>1</td>\n",
       "      <td>0.0</td>\n",
       "      <td>1</td>\n",
       "      <td>NaN</td>\n",
       "      <td>NaN</td>\n",
       "      <td>2900</td>\n",
       "      <td>0.76</td>\n",
       "      <td>1050</td>\n",
       "      <td>3695</td>\n",
       "      <td>1</td>\n",
       "      <td>34800</td>\n",
       "      <td>31</td>\n",
       "      <td>4</td>\n",
       "    </tr>\n",
       "  </tbody>\n",
       "</table>\n",
       "</div>"
      ],
      "text/plain": [
       "   loan_id loan_purpose        date  loan_granted  loan_repaid  is_first_loan  \\\n",
       "0    19454   investment  2012-03-15             0          NaN              1   \n",
       "1   496811   investment  2012-01-17             0          NaN              1   \n",
       "2   929493        other  2012-02-09             0          NaN              1   \n",
       "3   580653        other  2012-06-27             1          1.0              0   \n",
       "4   172419     business  2012-05-21             1          0.0              1   \n",
       "\n",
       "   fully_repaid_previous_loans  currently_repaying_other_loans  \\\n",
       "0                          NaN                             NaN   \n",
       "1                          NaN                             NaN   \n",
       "2                          NaN                             NaN   \n",
       "3                          1.0                             0.0   \n",
       "4                          NaN                             NaN   \n",
       "\n",
       "   total_credit_card_limit  avg_percentage_credit_card_limit_used_last_year  \\\n",
       "0                     8600                                             0.79   \n",
       "1                     5300                                             0.52   \n",
       "2                        0                                              NaN   \n",
       "3                     5400                                             0.52   \n",
       "4                     2900                                             0.76   \n",
       "\n",
       "   saving_amount  checking_amount  is_employed  yearly_salary  age  \\\n",
       "0           1491             6285            1          45200   42   \n",
       "1            141             5793            0              0   42   \n",
       "2            660             3232            1          26500   60   \n",
       "3           3345             2764            1          15800   58   \n",
       "4           1050             3695            1          34800   31   \n",
       "\n",
       "   dependent_number  \n",
       "0                 7  \n",
       "1                 5  \n",
       "2                 4  \n",
       "3                 4  \n",
       "4                 4  "
      ]
     },
     "execution_count": 12,
     "metadata": {},
     "output_type": "execute_result"
    }
   ],
   "source": [
    "# Lets observe visually by looking at the first 5 rows\n",
    "df.head()"
   ]
  },
  {
   "cell_type": "markdown",
   "metadata": {
    "heading_collapsed": true,
    "hidden": true
   },
   "source": [
    "### Exploration"
   ]
  },
  {
   "cell_type": "code",
   "execution_count": 13,
   "metadata": {
    "ExecuteTime": {
     "end_time": "2019-07-14T17:12:54.062455Z",
     "start_time": "2019-07-14T17:12:53.936210Z"
    },
    "hidden": true
   },
   "outputs": [
    {
     "name": "stdout",
     "output_type": "stream",
     "text": [
      "<class 'pandas.core.frame.DataFrame'>\n",
      "RangeIndex: 101100 entries, 0 to 101099\n",
      "Data columns (total 16 columns):\n",
      "loan_id                                            101100 non-null int64\n",
      "loan_purpose                                       101100 non-null object\n",
      "date                                               101100 non-null object\n",
      "loan_granted                                       101100 non-null int64\n",
      "loan_repaid                                        47654 non-null float64\n",
      "is_first_loan                                      101100 non-null int64\n",
      "fully_repaid_previous_loans                        46153 non-null float64\n",
      "currently_repaying_other_loans                     46153 non-null float64\n",
      "total_credit_card_limit                            101100 non-null int64\n",
      "avg_percentage_credit_card_limit_used_last_year    94128 non-null float64\n",
      "saving_amount                                      101100 non-null int64\n",
      "checking_amount                                    101100 non-null int64\n",
      "is_employed                                        101100 non-null int64\n",
      "yearly_salary                                      101100 non-null int64\n",
      "age                                                101100 non-null int64\n",
      "dependent_number                                   101100 non-null int64\n",
      "dtypes: float64(4), int64(10), object(2)\n",
      "memory usage: 12.3+ MB\n"
     ]
    }
   ],
   "source": [
    "df.info()"
   ]
  },
  {
   "cell_type": "code",
   "execution_count": 14,
   "metadata": {
    "ExecuteTime": {
     "end_time": "2019-07-14T17:12:54.176150Z",
     "start_time": "2019-07-14T17:12:54.063452Z"
    },
    "hidden": true
   },
   "outputs": [
    {
     "data": {
      "text/html": [
       "<div>\n",
       "<style scoped>\n",
       "    .dataframe tbody tr th:only-of-type {\n",
       "        vertical-align: middle;\n",
       "    }\n",
       "\n",
       "    .dataframe tbody tr th {\n",
       "        vertical-align: top;\n",
       "    }\n",
       "\n",
       "    .dataframe thead th {\n",
       "        text-align: right;\n",
       "    }\n",
       "</style>\n",
       "<table border=\"1\" class=\"dataframe\">\n",
       "  <thead>\n",
       "    <tr style=\"text-align: right;\">\n",
       "      <th></th>\n",
       "      <th>loan_id</th>\n",
       "      <th>loan_granted</th>\n",
       "      <th>loan_repaid</th>\n",
       "      <th>is_first_loan</th>\n",
       "      <th>fully_repaid_previous_loans</th>\n",
       "      <th>currently_repaying_other_loans</th>\n",
       "      <th>total_credit_card_limit</th>\n",
       "      <th>avg_percentage_credit_card_limit_used_last_year</th>\n",
       "      <th>saving_amount</th>\n",
       "      <th>checking_amount</th>\n",
       "      <th>is_employed</th>\n",
       "      <th>yearly_salary</th>\n",
       "      <th>age</th>\n",
       "      <th>dependent_number</th>\n",
       "    </tr>\n",
       "  </thead>\n",
       "  <tbody>\n",
       "    <tr>\n",
       "      <th>count</th>\n",
       "      <td>101100.000000</td>\n",
       "      <td>101100.000000</td>\n",
       "      <td>47654.000000</td>\n",
       "      <td>101100.000000</td>\n",
       "      <td>46153.000000</td>\n",
       "      <td>46153.000000</td>\n",
       "      <td>101100.000000</td>\n",
       "      <td>94128.000000</td>\n",
       "      <td>101100.000000</td>\n",
       "      <td>101100.000000</td>\n",
       "      <td>101100.000000</td>\n",
       "      <td>101100.000000</td>\n",
       "      <td>101100.000000</td>\n",
       "      <td>101100.000000</td>\n",
       "    </tr>\n",
       "    <tr>\n",
       "      <th>mean</th>\n",
       "      <td>499666.826726</td>\n",
       "      <td>0.471355</td>\n",
       "      <td>0.644353</td>\n",
       "      <td>0.543492</td>\n",
       "      <td>0.899291</td>\n",
       "      <td>0.364332</td>\n",
       "      <td>4112.743818</td>\n",
       "      <td>0.724140</td>\n",
       "      <td>1799.617616</td>\n",
       "      <td>3177.150821</td>\n",
       "      <td>0.658675</td>\n",
       "      <td>21020.727992</td>\n",
       "      <td>41.491632</td>\n",
       "      <td>3.864748</td>\n",
       "    </tr>\n",
       "    <tr>\n",
       "      <th>std</th>\n",
       "      <td>288662.006929</td>\n",
       "      <td>0.499181</td>\n",
       "      <td>0.478714</td>\n",
       "      <td>0.498107</td>\n",
       "      <td>0.300946</td>\n",
       "      <td>0.481247</td>\n",
       "      <td>2129.121462</td>\n",
       "      <td>0.186483</td>\n",
       "      <td>1400.545141</td>\n",
       "      <td>2044.448155</td>\n",
       "      <td>0.474157</td>\n",
       "      <td>18937.581415</td>\n",
       "      <td>12.825570</td>\n",
       "      <td>2.635491</td>\n",
       "    </tr>\n",
       "    <tr>\n",
       "      <th>min</th>\n",
       "      <td>30.000000</td>\n",
       "      <td>0.000000</td>\n",
       "      <td>0.000000</td>\n",
       "      <td>0.000000</td>\n",
       "      <td>0.000000</td>\n",
       "      <td>0.000000</td>\n",
       "      <td>0.000000</td>\n",
       "      <td>0.000000</td>\n",
       "      <td>0.000000</td>\n",
       "      <td>0.000000</td>\n",
       "      <td>0.000000</td>\n",
       "      <td>0.000000</td>\n",
       "      <td>18.000000</td>\n",
       "      <td>0.000000</td>\n",
       "    </tr>\n",
       "    <tr>\n",
       "      <th>25%</th>\n",
       "      <td>250333.750000</td>\n",
       "      <td>0.000000</td>\n",
       "      <td>0.000000</td>\n",
       "      <td>0.000000</td>\n",
       "      <td>1.000000</td>\n",
       "      <td>0.000000</td>\n",
       "      <td>2700.000000</td>\n",
       "      <td>0.600000</td>\n",
       "      <td>834.000000</td>\n",
       "      <td>1706.000000</td>\n",
       "      <td>0.000000</td>\n",
       "      <td>0.000000</td>\n",
       "      <td>32.000000</td>\n",
       "      <td>2.000000</td>\n",
       "    </tr>\n",
       "    <tr>\n",
       "      <th>50%</th>\n",
       "      <td>499885.000000</td>\n",
       "      <td>0.000000</td>\n",
       "      <td>1.000000</td>\n",
       "      <td>1.000000</td>\n",
       "      <td>1.000000</td>\n",
       "      <td>0.000000</td>\n",
       "      <td>4100.000000</td>\n",
       "      <td>0.730000</td>\n",
       "      <td>1339.000000</td>\n",
       "      <td>2673.000000</td>\n",
       "      <td>1.000000</td>\n",
       "      <td>21500.000000</td>\n",
       "      <td>41.000000</td>\n",
       "      <td>3.000000</td>\n",
       "    </tr>\n",
       "    <tr>\n",
       "      <th>75%</th>\n",
       "      <td>749706.250000</td>\n",
       "      <td>1.000000</td>\n",
       "      <td>1.000000</td>\n",
       "      <td>1.000000</td>\n",
       "      <td>1.000000</td>\n",
       "      <td>1.000000</td>\n",
       "      <td>5500.000000</td>\n",
       "      <td>0.860000</td>\n",
       "      <td>2409.000000</td>\n",
       "      <td>4241.000000</td>\n",
       "      <td>1.000000</td>\n",
       "      <td>35300.000000</td>\n",
       "      <td>50.000000</td>\n",
       "      <td>6.000000</td>\n",
       "    </tr>\n",
       "    <tr>\n",
       "      <th>max</th>\n",
       "      <td>999987.000000</td>\n",
       "      <td>1.000000</td>\n",
       "      <td>1.000000</td>\n",
       "      <td>1.000000</td>\n",
       "      <td>1.000000</td>\n",
       "      <td>1.000000</td>\n",
       "      <td>13500.000000</td>\n",
       "      <td>1.090000</td>\n",
       "      <td>10641.000000</td>\n",
       "      <td>13906.000000</td>\n",
       "      <td>1.000000</td>\n",
       "      <td>97200.000000</td>\n",
       "      <td>79.000000</td>\n",
       "      <td>8.000000</td>\n",
       "    </tr>\n",
       "  </tbody>\n",
       "</table>\n",
       "</div>"
      ],
      "text/plain": [
       "             loan_id   loan_granted   loan_repaid  is_first_loan  \\\n",
       "count  101100.000000  101100.000000  47654.000000  101100.000000   \n",
       "mean   499666.826726       0.471355      0.644353       0.543492   \n",
       "std    288662.006929       0.499181      0.478714       0.498107   \n",
       "min        30.000000       0.000000      0.000000       0.000000   \n",
       "25%    250333.750000       0.000000      0.000000       0.000000   \n",
       "50%    499885.000000       0.000000      1.000000       1.000000   \n",
       "75%    749706.250000       1.000000      1.000000       1.000000   \n",
       "max    999987.000000       1.000000      1.000000       1.000000   \n",
       "\n",
       "       fully_repaid_previous_loans  currently_repaying_other_loans  \\\n",
       "count                 46153.000000                    46153.000000   \n",
       "mean                      0.899291                        0.364332   \n",
       "std                       0.300946                        0.481247   \n",
       "min                       0.000000                        0.000000   \n",
       "25%                       1.000000                        0.000000   \n",
       "50%                       1.000000                        0.000000   \n",
       "75%                       1.000000                        1.000000   \n",
       "max                       1.000000                        1.000000   \n",
       "\n",
       "       total_credit_card_limit  \\\n",
       "count            101100.000000   \n",
       "mean               4112.743818   \n",
       "std                2129.121462   \n",
       "min                   0.000000   \n",
       "25%                2700.000000   \n",
       "50%                4100.000000   \n",
       "75%                5500.000000   \n",
       "max               13500.000000   \n",
       "\n",
       "       avg_percentage_credit_card_limit_used_last_year  saving_amount  \\\n",
       "count                                     94128.000000  101100.000000   \n",
       "mean                                          0.724140    1799.617616   \n",
       "std                                           0.186483    1400.545141   \n",
       "min                                           0.000000       0.000000   \n",
       "25%                                           0.600000     834.000000   \n",
       "50%                                           0.730000    1339.000000   \n",
       "75%                                           0.860000    2409.000000   \n",
       "max                                           1.090000   10641.000000   \n",
       "\n",
       "       checking_amount    is_employed  yearly_salary            age  \\\n",
       "count    101100.000000  101100.000000  101100.000000  101100.000000   \n",
       "mean       3177.150821       0.658675   21020.727992      41.491632   \n",
       "std        2044.448155       0.474157   18937.581415      12.825570   \n",
       "min           0.000000       0.000000       0.000000      18.000000   \n",
       "25%        1706.000000       0.000000       0.000000      32.000000   \n",
       "50%        2673.000000       1.000000   21500.000000      41.000000   \n",
       "75%        4241.000000       1.000000   35300.000000      50.000000   \n",
       "max       13906.000000       1.000000   97200.000000      79.000000   \n",
       "\n",
       "       dependent_number  \n",
       "count     101100.000000  \n",
       "mean           3.864748  \n",
       "std            2.635491  \n",
       "min            0.000000  \n",
       "25%            2.000000  \n",
       "50%            3.000000  \n",
       "75%            6.000000  \n",
       "max            8.000000  "
      ]
     },
     "execution_count": 14,
     "metadata": {},
     "output_type": "execute_result"
    }
   ],
   "source": [
    "df.describe()"
   ]
  },
  {
   "cell_type": "markdown",
   "metadata": {
    "heading_collapsed": true,
    "hidden": true
   },
   "source": [
    "#### Loan Purpose"
   ]
  },
  {
   "cell_type": "code",
   "execution_count": 15,
   "metadata": {
    "ExecuteTime": {
     "end_time": "2019-07-14T17:12:54.189116Z",
     "start_time": "2019-07-14T17:12:54.177149Z"
    },
    "hidden": true
   },
   "outputs": [
    {
     "data": {
      "text/plain": [
       "home               24314\n",
       "business           21707\n",
       "investment         21484\n",
       "emergency_funds    18091\n",
       "other              15504\n",
       "Name: loan_purpose, dtype: int64"
      ]
     },
     "execution_count": 15,
     "metadata": {},
     "output_type": "execute_result"
    }
   ],
   "source": [
    "df.loan_purpose.value_counts(dropna=False)"
   ]
  },
  {
   "cell_type": "markdown",
   "metadata": {
    "hidden": true
   },
   "source": [
    "We will encode categorical features differently for different algorithms later."
   ]
  },
  {
   "cell_type": "markdown",
   "metadata": {
    "heading_collapsed": true,
    "hidden": true
   },
   "source": [
    "#### Drop Date"
   ]
  },
  {
   "cell_type": "code",
   "execution_count": 16,
   "metadata": {
    "ExecuteTime": {
     "end_time": "2019-07-14T17:12:54.307194Z",
     "start_time": "2019-07-14T17:12:54.190113Z"
    },
    "hidden": true
   },
   "outputs": [],
   "source": [
    "# Date does not help much in deciding if loan offered will be repaid or not\n",
    "df.drop('date', axis=1, inplace=True)"
   ]
  },
  {
   "cell_type": "markdown",
   "metadata": {
    "heading_collapsed": true,
    "hidden": true
   },
   "source": [
    "#### Loan granted"
   ]
  },
  {
   "cell_type": "code",
   "execution_count": 17,
   "metadata": {
    "ExecuteTime": {
     "end_time": "2019-07-14T17:12:54.417350Z",
     "start_time": "2019-07-14T17:12:54.311184Z"
    },
    "hidden": true
   },
   "outputs": [
    {
     "data": {
      "text/plain": [
       "0    53446\n",
       "1    47654\n",
       "Name: loan_granted, dtype: int64"
      ]
     },
     "execution_count": 17,
     "metadata": {},
     "output_type": "execute_result"
    }
   ],
   "source": [
    "# loan_granted\n",
    "df.loan_granted.value_counts(dropna=False)"
   ]
  },
  {
   "cell_type": "markdown",
   "metadata": {
    "hidden": true
   },
   "source": [
    "We will take `loan_granted = 1` as the train data and `loan_granted = 0` as not granted yet as the test data."
   ]
  },
  {
   "cell_type": "markdown",
   "metadata": {
    "heading_collapsed": true,
    "hidden": true
   },
   "source": [
    "#### Loan Repaid"
   ]
  },
  {
   "cell_type": "code",
   "execution_count": 18,
   "metadata": {
    "ExecuteTime": {
     "end_time": "2019-07-14T17:12:54.540832Z",
     "start_time": "2019-07-14T17:12:54.422345Z"
    },
    "hidden": true
   },
   "outputs": [
    {
     "data": {
      "text/plain": [
       "NaN     53446\n",
       " 1.0    30706\n",
       " 0.0    16948\n",
       "Name: loan_repaid, dtype: int64"
      ]
     },
     "execution_count": 18,
     "metadata": {},
     "output_type": "execute_result"
    }
   ],
   "source": [
    "# loan_repaid\n",
    "df.loan_repaid.value_counts(dropna=False)"
   ]
  },
  {
   "cell_type": "markdown",
   "metadata": {
    "hidden": true
   },
   "source": [
    "All records with NaN - the nulls represent the same records where loan has not been granted so loan_repaid does not make sense."
   ]
  },
  {
   "cell_type": "code",
   "execution_count": 19,
   "metadata": {
    "ExecuteTime": {
     "end_time": "2019-07-14T17:12:54.719829Z",
     "start_time": "2019-07-14T17:12:54.551783Z"
    },
    "hidden": true
   },
   "outputs": [
    {
     "data": {
      "text/plain": [
       "<matplotlib.axes._subplots.AxesSubplot at 0x29a932dcba8>"
      ]
     },
     "execution_count": 19,
     "metadata": {},
     "output_type": "execute_result"
    },
    {
     "data": {
      "image/png": "[encoded data removed]",
      "text/plain": [
       "<Figure size 432x288 with 1 Axes>"
      ]
     },
     "metadata": {
      "needs_background": "light"
     },
     "output_type": "display_data"
    }
   ],
   "source": [
    "# Loan repaid vs not repaid comparison plot\n",
    "df.loan_repaid.value_counts().plot.bar(title='Loan Repaid vs Not Repaid')"
   ]
  },
  {
   "cell_type": "markdown",
   "metadata": {
    "heading_collapsed": true,
    "hidden": true
   },
   "source": [
    "#### Is first loan"
   ]
  },
  {
   "cell_type": "code",
   "execution_count": 20,
   "metadata": {
    "ExecuteTime": {
     "end_time": "2019-07-14T17:12:54.727800Z",
     "start_time": "2019-07-14T17:12:54.721816Z"
    },
    "hidden": true
   },
   "outputs": [
    {
     "data": {
      "text/plain": [
       "1    54947\n",
       "0    46153\n",
       "Name: is_first_loan, dtype: int64"
      ]
     },
     "execution_count": 20,
     "metadata": {},
     "output_type": "execute_result"
    }
   ],
   "source": [
    "df.is_first_loan.value_counts(dropna=False)"
   ]
  },
  {
   "cell_type": "markdown",
   "metadata": {
    "heading_collapsed": true,
    "hidden": true
   },
   "source": [
    "#### Fully repaid previous loan"
   ]
  },
  {
   "cell_type": "code",
   "execution_count": 21,
   "metadata": {
    "ExecuteTime": {
     "end_time": "2019-07-14T17:12:54.832520Z",
     "start_time": "2019-07-14T17:12:54.728797Z"
    },
    "hidden": true
   },
   "outputs": [
    {
     "data": {
      "text/plain": [
       "NaN     54947\n",
       " 1.0    41505\n",
       " 0.0     4648\n",
       "Name: fully_repaid_previous_loans, dtype: int64"
      ]
     },
     "execution_count": 21,
     "metadata": {},
     "output_type": "execute_result"
    }
   ],
   "source": [
    "df.fully_repaid_previous_loans.value_counts(dropna=False)"
   ]
  },
  {
   "cell_type": "markdown",
   "metadata": {
    "hidden": true
   },
   "source": [
    "Fully repaid previous loan does not make sense for people where this is first loan. So they are null here. We will drop isfirstloan column and embed that information in this feature only."
   ]
  },
  {
   "cell_type": "code",
   "execution_count": 22,
   "metadata": {
    "ExecuteTime": {
     "end_time": "2019-07-14T17:12:54.925314Z",
     "start_time": "2019-07-14T17:12:54.833518Z"
    },
    "hidden": true
   },
   "outputs": [],
   "source": [
    "df.drop('is_first_loan', axis=1, inplace=True)"
   ]
  },
  {
   "cell_type": "markdown",
   "metadata": {
    "heading_collapsed": true,
    "hidden": true
   },
   "source": [
    "#### Currently repaying other loans"
   ]
  },
  {
   "cell_type": "code",
   "execution_count": 23,
   "metadata": {
    "ExecuteTime": {
     "end_time": "2019-07-14T17:12:55.014818Z",
     "start_time": "2019-07-14T17:12:54.926311Z"
    },
    "hidden": true
   },
   "outputs": [
    {
     "data": {
      "text/plain": [
       "NaN     54947\n",
       " 0.0    29338\n",
       " 1.0    16815\n",
       "Name: currently_repaying_other_loans, dtype: int64"
      ]
     },
     "execution_count": 23,
     "metadata": {},
     "output_type": "execute_result"
    }
   ],
   "source": [
    "df.currently_repaying_other_loans.value_counts(dropna=False)"
   ]
  },
  {
   "cell_type": "markdown",
   "metadata": {
    "hidden": true
   },
   "source": [
    "Same thing as previous feature. But here we will simply replace NaNs with 0 as people with first loan won't be paying any other loans."
   ]
  },
  {
   "cell_type": "code",
   "execution_count": 24,
   "metadata": {
    "ExecuteTime": {
     "end_time": "2019-07-14T17:12:55.114024Z",
     "start_time": "2019-07-14T17:12:55.015842Z"
    },
    "hidden": true
   },
   "outputs": [],
   "source": [
    "df.currently_repaying_other_loans.fillna(value=0, inplace=True)"
   ]
  },
  {
   "cell_type": "markdown",
   "metadata": {
    "heading_collapsed": true,
    "hidden": true
   },
   "source": [
    "#### Total credit card limit"
   ]
  },
  {
   "cell_type": "code",
   "execution_count": 25,
   "metadata": {
    "ExecuteTime": {
     "end_time": "2019-07-14T17:12:55.225514Z",
     "start_time": "2019-07-14T17:12:55.114322Z"
    },
    "hidden": true
   },
   "outputs": [
    {
     "data": {
      "text/plain": [
       "0"
      ]
     },
     "execution_count": 25,
     "metadata": {},
     "output_type": "execute_result"
    }
   ],
   "source": [
    "sum(df.total_credit_card_limit.isna())"
   ]
  },
  {
   "cell_type": "code",
   "execution_count": 26,
   "metadata": {
    "ExecuteTime": {
     "end_time": "2019-07-14T17:12:55.430723Z",
     "start_time": "2019-07-14T17:12:55.227509Z"
    },
    "hidden": true
   },
   "outputs": [
    {
     "data": {
      "text/plain": [
       "<matplotlib.axes._subplots.AxesSubplot at 0x29a92d31390>"
      ]
     },
     "execution_count": 26,
     "metadata": {},
     "output_type": "execute_result"
    },
    {
     "data": {
      "image/png": "[encoded data removed]",
      "text/plain": [
       "<Figure size 432x288 with 1 Axes>"
      ]
     },
     "metadata": {
      "needs_background": "light"
     },
     "output_type": "display_data"
    }
   ],
   "source": [
    "# Using histogram since it is a continuous feature\n",
    "df.total_credit_card_limit.hist()"
   ]
  },
  {
   "cell_type": "markdown",
   "metadata": {
    "hidden": true
   },
   "source": [
    "So this is a positively skewed distribution and generally observed when money metrics. Simple way to deal with this is take log or sqrt."
   ]
  },
  {
   "cell_type": "code",
   "execution_count": 27,
   "metadata": {
    "ExecuteTime": {
     "end_time": "2019-07-14T17:12:55.509492Z",
     "start_time": "2019-07-14T17:12:55.431700Z"
    },
    "hidden": true
   },
   "outputs": [
    {
     "data": {
      "text/plain": [
       "<matplotlib.axes._subplots.AxesSubplot at 0x29a92d70940>"
      ]
     },
     "execution_count": 27,
     "metadata": {},
     "output_type": "execute_result"
    },
    {
     "data": {
      "image/png": "[encoded data removed]",
      "text/plain": [
       "<Figure size 432x288 with 1 Axes>"
      ]
     },
     "metadata": {
      "needs_background": "light"
     },
     "output_type": "display_data"
    }
   ],
   "source": [
    "sns.boxplot(data=df, x='total_credit_card_limit')"
   ]
  },
  {
   "cell_type": "markdown",
   "metadata": {
    "hidden": true
   },
   "source": [
    "Above box plot shows the outliers after right tail. Models tend to perform when data is normally distributed and with minimum outliers."
   ]
  },
  {
   "cell_type": "code",
   "execution_count": 28,
   "metadata": {
    "ExecuteTime": {
     "end_time": "2019-07-14T17:12:55.655145Z",
     "start_time": "2019-07-14T17:12:55.510510Z"
    },
    "hidden": true
   },
   "outputs": [
    {
     "data": {
      "text/plain": [
       "<matplotlib.axes._subplots.AxesSubplot at 0x29a931a5710>"
      ]
     },
     "execution_count": 28,
     "metadata": {},
     "output_type": "execute_result"
    },
    {
     "data": {
      "image/png": "[encoded data removed]",
      "text/plain": [
       "<Figure size 432x288 with 1 Axes>"
      ]
     },
     "metadata": {
      "needs_background": "light"
     },
     "output_type": "display_data"
    }
   ],
   "source": [
    "df.total_credit_card_limit.apply(lambda x: math.sqrt(x)).hist()"
   ]
  },
  {
   "cell_type": "code",
   "execution_count": 29,
   "metadata": {
    "ExecuteTime": {
     "end_time": "2019-07-14T17:12:55.659135Z",
     "start_time": "2019-07-14T17:12:55.656142Z"
    },
    "hidden": true
   },
   "outputs": [],
   "source": [
    "to_sqrt = []\n",
    "to_sqrt.append('total_credit_card_limit')"
   ]
  },
  {
   "cell_type": "markdown",
   "metadata": {
    "heading_collapsed": true,
    "hidden": true
   },
   "source": [
    "#### Avg %age credit card limit used last year"
   ]
  },
  {
   "cell_type": "code",
   "execution_count": 30,
   "metadata": {
    "ExecuteTime": {
     "end_time": "2019-07-14T17:12:55.730734Z",
     "start_time": "2019-07-14T17:12:55.660167Z"
    },
    "hidden": true
   },
   "outputs": [
    {
     "data": {
      "text/plain": [
       "6972"
      ]
     },
     "execution_count": 30,
     "metadata": {},
     "output_type": "execute_result"
    }
   ],
   "source": [
    "sum(df.avg_percentage_credit_card_limit_used_last_year.isna())"
   ]
  },
  {
   "cell_type": "markdown",
   "metadata": {
    "hidden": true
   },
   "source": [
    "Most likly people with no credit card will have a no data. We can impute these nulls with 0 but it is also possible that they have credit and we simply don't have the data. Lets see the distribution first."
   ]
  },
  {
   "cell_type": "code",
   "execution_count": 31,
   "metadata": {
    "ExecuteTime": {
     "end_time": "2019-07-14T17:12:55.941369Z",
     "start_time": "2019-07-14T17:12:55.731753Z"
    },
    "hidden": true
   },
   "outputs": [
    {
     "data": {
      "text/plain": [
       "<matplotlib.axes._subplots.AxesSubplot at 0x29a934fa5f8>"
      ]
     },
     "execution_count": 31,
     "metadata": {},
     "output_type": "execute_result"
    },
    {
     "data": {
      "image/png": "[encoded data removed]",
      "text/plain": [
       "<Figure size 432x288 with 1 Axes>"
      ]
     },
     "metadata": {
      "needs_background": "light"
     },
     "output_type": "display_data"
    }
   ],
   "source": [
    "df.avg_percentage_credit_card_limit_used_last_year.hist()"
   ]
  },
  {
   "cell_type": "code",
   "execution_count": 32,
   "metadata": {
    "ExecuteTime": {
     "end_time": "2019-07-14T17:12:55.947446Z",
     "start_time": "2019-07-14T17:12:55.942394Z"
    },
    "hidden": true
   },
   "outputs": [],
   "source": [
    "# Investigate guys with nulls as avg %age credit card usage.\n",
    "people_no_credit_card = df.loc[df.avg_percentage_credit_card_limit_used_last_year.isna(),\n",
    "                               ['total_credit_card_limit','avg_percentage_credit_card_limit_used_last_year']]"
   ]
  },
  {
   "cell_type": "code",
   "execution_count": 33,
   "metadata": {
    "ExecuteTime": {
     "end_time": "2019-07-14T17:12:56.069991Z",
     "start_time": "2019-07-14T17:12:55.948375Z"
    },
    "hidden": true
   },
   "outputs": [
    {
     "data": {
      "text/plain": [
       "0"
      ]
     },
     "execution_count": 33,
     "metadata": {},
     "output_type": "execute_result"
    }
   ],
   "source": [
    "sum(people_no_credit_card.total_credit_card_limit)"
   ]
  },
  {
   "cell_type": "markdown",
   "metadata": {
    "hidden": true
   },
   "source": [
    "We are sure now that all people with avg %age credit card usage as null has a credit limit of zero. Means no credit card. We will impute avg credit card usage of these people as 0."
   ]
  },
  {
   "cell_type": "code",
   "execution_count": 34,
   "metadata": {
    "ExecuteTime": {
     "end_time": "2019-07-14T17:12:56.146032Z",
     "start_time": "2019-07-14T17:12:56.073955Z"
    },
    "hidden": true
   },
   "outputs": [],
   "source": [
    "df.avg_percentage_credit_card_limit_used_last_year.fillna(value=0, inplace=True)"
   ]
  },
  {
   "cell_type": "markdown",
   "metadata": {
    "heading_collapsed": true,
    "hidden": true
   },
   "source": [
    "#### Saving amount"
   ]
  },
  {
   "cell_type": "code",
   "execution_count": 35,
   "metadata": {
    "ExecuteTime": {
     "end_time": "2019-07-14T17:12:56.261607Z",
     "start_time": "2019-07-14T17:12:56.147033Z"
    },
    "hidden": true
   },
   "outputs": [
    {
     "data": {
      "text/plain": [
       "0"
      ]
     },
     "execution_count": 35,
     "metadata": {},
     "output_type": "execute_result"
    }
   ],
   "source": [
    "sum(df.saving_amount.isna())"
   ]
  },
  {
   "cell_type": "code",
   "execution_count": 36,
   "metadata": {
    "ExecuteTime": {
     "end_time": "2019-07-14T17:12:56.483091Z",
     "start_time": "2019-07-14T17:12:56.263608Z"
    },
    "hidden": true
   },
   "outputs": [
    {
     "data": {
      "text/plain": [
       "<matplotlib.axes._subplots.AxesSubplot at 0x29a9324b0b8>"
      ]
     },
     "execution_count": 36,
     "metadata": {},
     "output_type": "execute_result"
    },
    {
     "data": {
      "image/png": "[encoded data removed]",
      "text/plain": [
       "<Figure size 432x288 with 1 Axes>"
      ]
     },
     "metadata": {
      "needs_background": "light"
     },
     "output_type": "display_data"
    }
   ],
   "source": [
    "# Lets look at the distribution of the saving amount\n",
    "df.saving_amount.hist()"
   ]
  },
  {
   "cell_type": "code",
   "execution_count": 37,
   "metadata": {
    "ExecuteTime": {
     "end_time": "2019-07-14T17:12:56.605746Z",
     "start_time": "2019-07-14T17:12:56.484089Z"
    },
    "hidden": true
   },
   "outputs": [
    {
     "data": {
      "text/plain": [
       "<matplotlib.axes._subplots.AxesSubplot at 0x29a933170b8>"
      ]
     },
     "execution_count": 37,
     "metadata": {},
     "output_type": "execute_result"
    },
    {
     "data": {
      "image/png": "[encoded data removed]",
      "text/plain": [
       "<Figure size 432x288 with 1 Axes>"
      ]
     },
     "metadata": {
      "needs_background": "light"
     },
     "output_type": "display_data"
    }
   ],
   "source": [
    "# Lets fix that heavily skewed distribution by taking log.\n",
    "df.saving_amount.apply(lambda x:math.log(x+1)).hist()"
   ]
  },
  {
   "cell_type": "code",
   "execution_count": 38,
   "metadata": {
    "ExecuteTime": {
     "end_time": "2019-07-14T17:12:56.742372Z",
     "start_time": "2019-07-14T17:12:56.606743Z"
    },
    "hidden": true
   },
   "outputs": [
    {
     "data": {
      "text/plain": [
       "<matplotlib.axes._subplots.AxesSubplot at 0x29a93a66f98>"
      ]
     },
     "execution_count": 38,
     "metadata": {},
     "output_type": "execute_result"
    },
    {
     "data": {
      "image/png": "[encoded data removed]",
      "text/plain": [
       "<Figure size 432x288 with 1 Axes>"
      ]
     },
     "metadata": {
      "needs_background": "light"
     },
     "output_type": "display_data"
    }
   ],
   "source": [
    "# Log is not the best idea here. Lets try square root.\n",
    "df.saving_amount.apply(lambda x:math.sqrt(x)).hist()"
   ]
  },
  {
   "cell_type": "markdown",
   "metadata": {
    "hidden": true
   },
   "source": [
    "This is good enough distribution. So we will apply square root transformation to the saving amount feature."
   ]
  },
  {
   "cell_type": "code",
   "execution_count": 39,
   "metadata": {
    "ExecuteTime": {
     "end_time": "2019-07-14T17:12:56.746341Z",
     "start_time": "2019-07-14T17:12:56.743348Z"
    },
    "hidden": true
   },
   "outputs": [],
   "source": [
    "to_sqrt.append('saving_amount')"
   ]
  },
  {
   "cell_type": "markdown",
   "metadata": {
    "heading_collapsed": true,
    "hidden": true
   },
   "source": [
    "#### Checking amount"
   ]
  },
  {
   "cell_type": "code",
   "execution_count": 40,
   "metadata": {
    "ExecuteTime": {
     "end_time": "2019-07-14T17:12:56.843860Z",
     "start_time": "2019-07-14T17:12:56.746909Z"
    },
    "hidden": true
   },
   "outputs": [
    {
     "data": {
      "text/plain": [
       "0"
      ]
     },
     "execution_count": 40,
     "metadata": {},
     "output_type": "execute_result"
    }
   ],
   "source": [
    "sum(df.checking_amount.isna())"
   ]
  },
  {
   "cell_type": "code",
   "execution_count": 41,
   "metadata": {
    "ExecuteTime": {
     "end_time": "2019-07-14T17:12:57.103658Z",
     "start_time": "2019-07-14T17:12:56.844823Z"
    },
    "hidden": true
   },
   "outputs": [
    {
     "data": {
      "text/plain": [
       "<matplotlib.axes._subplots.AxesSubplot at 0x29a93387518>"
      ]
     },
     "execution_count": 41,
     "metadata": {},
     "output_type": "execute_result"
    },
    {
     "data": {
      "image/png": "[encoded data removed]",
      "text/plain": [
       "<Figure size 432x288 with 1 Axes>"
      ]
     },
     "metadata": {
      "needs_background": "light"
     },
     "output_type": "display_data"
    }
   ],
   "source": [
    "# Lets look at the distribution of the checking amount\n",
    "df.checking_amount.hist()"
   ]
  },
  {
   "cell_type": "code",
   "execution_count": 42,
   "metadata": {
    "ExecuteTime": {
     "end_time": "2019-07-14T17:12:57.245187Z",
     "start_time": "2019-07-14T17:12:57.104653Z"
    },
    "hidden": true
   },
   "outputs": [
    {
     "data": {
      "text/plain": [
       "<matplotlib.axes._subplots.AxesSubplot at 0x29a93a85898>"
      ]
     },
     "execution_count": 42,
     "metadata": {},
     "output_type": "execute_result"
    },
    {
     "data": {
      "image/png": "[encoded data removed]",
      "text/plain": [
       "<Figure size 432x288 with 1 Axes>"
      ]
     },
     "metadata": {
      "needs_background": "light"
     },
     "output_type": "display_data"
    }
   ],
   "source": [
    "# Lets try square root first here.\n",
    "df.checking_amount.apply(lambda x:math.sqrt(x)).hist()"
   ]
  },
  {
   "cell_type": "code",
   "execution_count": 43,
   "metadata": {
    "ExecuteTime": {
     "end_time": "2019-07-14T17:12:57.249147Z",
     "start_time": "2019-07-14T17:12:57.246176Z"
    },
    "hidden": true
   },
   "outputs": [],
   "source": [
    "to_sqrt.append('checking_amount')"
   ]
  },
  {
   "cell_type": "markdown",
   "metadata": {
    "heading_collapsed": true,
    "hidden": true
   },
   "source": [
    "#### Is employed"
   ]
  },
  {
   "cell_type": "code",
   "execution_count": 44,
   "metadata": {
    "ExecuteTime": {
     "end_time": "2019-07-14T17:12:57.344130Z",
     "start_time": "2019-07-14T17:12:57.250172Z"
    },
    "hidden": true
   },
   "outputs": [
    {
     "data": {
      "text/plain": [
       "1    66592\n",
       "0    34508\n",
       "Name: is_employed, dtype: int64"
      ]
     },
     "execution_count": 44,
     "metadata": {},
     "output_type": "execute_result"
    }
   ],
   "source": [
    "df.is_employed.value_counts(dropna=False)"
   ]
  },
  {
   "cell_type": "markdown",
   "metadata": {
    "heading_collapsed": true,
    "hidden": true
   },
   "source": [
    "#### Yearly salary"
   ]
  },
  {
   "cell_type": "code",
   "execution_count": 45,
   "metadata": {
    "ExecuteTime": {
     "end_time": "2019-07-14T17:12:57.459143Z",
     "start_time": "2019-07-14T17:12:57.345128Z"
    },
    "hidden": true
   },
   "outputs": [
    {
     "data": {
      "text/plain": [
       "0"
      ]
     },
     "execution_count": 45,
     "metadata": {},
     "output_type": "execute_result"
    }
   ],
   "source": [
    "sum(df.yearly_salary.isna())"
   ]
  },
  {
   "cell_type": "code",
   "execution_count": 46,
   "metadata": {
    "ExecuteTime": {
     "end_time": "2019-07-14T17:12:57.660723Z",
     "start_time": "2019-07-14T17:12:57.464092Z"
    },
    "hidden": true
   },
   "outputs": [
    {
     "data": {
      "text/plain": [
       "<matplotlib.axes._subplots.AxesSubplot at 0x29a93445208>"
      ]
     },
     "execution_count": 46,
     "metadata": {},
     "output_type": "execute_result"
    },
    {
     "data": {
      "image/png": "[encoded data removed]",
      "text/plain": [
       "<Figure size 432x288 with 1 Axes>"
      ]
     },
     "metadata": {
      "needs_background": "light"
     },
     "output_type": "display_data"
    }
   ],
   "source": [
    "df.yearly_salary.hist()"
   ]
  },
  {
   "cell_type": "code",
   "execution_count": 47,
   "metadata": {
    "ExecuteTime": {
     "end_time": "2019-07-14T17:12:57.850922Z",
     "start_time": "2019-07-14T17:12:57.661692Z"
    },
    "hidden": true
   },
   "outputs": [
    {
     "data": {
      "text/plain": [
       "<matplotlib.axes._subplots.AxesSubplot at 0x29a9348c358>"
      ]
     },
     "execution_count": 47,
     "metadata": {},
     "output_type": "execute_result"
    },
    {
     "data": {
      "image/png": "[encoded data removed]",
      "text/plain": [
       "<Figure size 432x288 with 1 Axes>"
      ]
     },
     "metadata": {
      "needs_background": "light"
     },
     "output_type": "display_data"
    }
   ],
   "source": [
    "df.yearly_salary.apply(lambda x: math.sqrt(x)).hist()"
   ]
  },
  {
   "cell_type": "markdown",
   "metadata": {
    "hidden": true
   },
   "source": [
    "Here the number of people with salary 0 is very high as they are not employed. But since we have that is_employed categorical feature. Model should learn that some cases are not evaluated based on salary. For example students get loans based on admission to good colleges and their future prospects."
   ]
  },
  {
   "cell_type": "code",
   "execution_count": 48,
   "metadata": {
    "ExecuteTime": {
     "end_time": "2019-07-14T17:12:57.854911Z",
     "start_time": "2019-07-14T17:12:57.851920Z"
    },
    "hidden": true
   },
   "outputs": [],
   "source": [
    "to_sqrt.append('yearly_salary')"
   ]
  },
  {
   "cell_type": "markdown",
   "metadata": {
    "heading_collapsed": true,
    "hidden": true
   },
   "source": [
    "#### Age"
   ]
  },
  {
   "cell_type": "code",
   "execution_count": 49,
   "metadata": {
    "ExecuteTime": {
     "end_time": "2019-07-14T17:12:57.951143Z",
     "start_time": "2019-07-14T17:12:57.855909Z"
    },
    "hidden": true
   },
   "outputs": [
    {
     "data": {
      "text/plain": [
       "0"
      ]
     },
     "execution_count": 49,
     "metadata": {},
     "output_type": "execute_result"
    }
   ],
   "source": [
    "sum(df.age.isna())"
   ]
  },
  {
   "cell_type": "code",
   "execution_count": 50,
   "metadata": {
    "ExecuteTime": {
     "end_time": "2019-07-14T17:12:58.157822Z",
     "start_time": "2019-07-14T17:12:57.952137Z"
    },
    "hidden": true
   },
   "outputs": [
    {
     "data": {
      "text/plain": [
       "<matplotlib.axes._subplots.AxesSubplot at 0x29a93b4eef0>"
      ]
     },
     "execution_count": 50,
     "metadata": {},
     "output_type": "execute_result"
    },
    {
     "data": {
      "image/png": "[encoded data removed]",
      "text/plain": [
       "<Figure size 432x288 with 1 Axes>"
      ]
     },
     "metadata": {
      "needs_background": "light"
     },
     "output_type": "display_data"
    }
   ],
   "source": [
    "df.age.hist()"
   ]
  },
  {
   "cell_type": "markdown",
   "metadata": {
    "hidden": true
   },
   "source": [
    "This looks okay."
   ]
  },
  {
   "cell_type": "markdown",
   "metadata": {
    "heading_collapsed": true,
    "hidden": true
   },
   "source": [
    "#### Dependent number"
   ]
  },
  {
   "cell_type": "code",
   "execution_count": 51,
   "metadata": {
    "ExecuteTime": {
     "end_time": "2019-07-14T17:12:58.164881Z",
     "start_time": "2019-07-14T17:12:58.158796Z"
    },
    "hidden": true
   },
   "outputs": [
    {
     "data": {
      "text/plain": [
       "1    20050\n",
       "8    19818\n",
       "2    18153\n",
       "3    13150\n",
       "4     9730\n",
       "5     7257\n",
       "6     5399\n",
       "7     4111\n",
       "0     3432\n",
       "Name: dependent_number, dtype: int64"
      ]
     },
     "execution_count": 51,
     "metadata": {},
     "output_type": "execute_result"
    }
   ],
   "source": [
    "df.dependent_number.value_counts(dropna=False)"
   ]
  },
  {
   "cell_type": "markdown",
   "metadata": {
    "heading_collapsed": true
   },
   "source": [
    "## Data Preparation"
   ]
  },
  {
   "cell_type": "markdown",
   "metadata": {
    "heading_collapsed": true,
    "hidden": true
   },
   "source": [
    "### Dividing data into train and test"
   ]
  },
  {
   "cell_type": "markdown",
   "metadata": {
    "ExecuteTime": {
     "end_time": "2019-07-13T14:21:14.627073Z",
     "start_time": "2019-07-13T14:21:14.624082Z"
    },
    "hidden": true
   },
   "source": [
    "We generally use `train_test_split` from sklearn to do this but in this case we already have people whose loans are yet to be granted. So we make that as our test data. "
   ]
  },
  {
   "cell_type": "code",
   "execution_count": 52,
   "metadata": {
    "ExecuteTime": {
     "end_time": "2019-07-14T17:12:58.255531Z",
     "start_time": "2019-07-14T17:12:58.165794Z"
    },
    "hidden": true
   },
   "outputs": [],
   "source": [
    "X_train = df.loc[df.loan_granted==1,:]"
   ]
  },
  {
   "cell_type": "code",
   "execution_count": 53,
   "metadata": {
    "ExecuteTime": {
     "end_time": "2019-07-14T17:12:58.353965Z",
     "start_time": "2019-07-14T17:12:58.257493Z"
    },
    "hidden": true
   },
   "outputs": [],
   "source": [
    "y_train = X_train.loan_repaid"
   ]
  },
  {
   "cell_type": "code",
   "execution_count": 54,
   "metadata": {
    "ExecuteTime": {
     "end_time": "2019-07-14T17:12:58.474873Z",
     "start_time": "2019-07-14T17:12:58.355931Z"
    },
    "hidden": true
   },
   "outputs": [],
   "source": [
    "X_train = X_train.drop(labels=['loan_repaid','loan_granted'],axis=1)"
   ]
  },
  {
   "cell_type": "code",
   "execution_count": 55,
   "metadata": {
    "ExecuteTime": {
     "end_time": "2019-07-14T17:12:58.554976Z",
     "start_time": "2019-07-14T17:12:58.477859Z"
    },
    "hidden": true
   },
   "outputs": [],
   "source": [
    "X_test = df.loc[df.loan_granted==0,:]"
   ]
  },
  {
   "cell_type": "code",
   "execution_count": 56,
   "metadata": {
    "ExecuteTime": {
     "end_time": "2019-07-14T17:12:58.640246Z",
     "start_time": "2019-07-14T17:12:58.555904Z"
    },
    "hidden": true
   },
   "outputs": [],
   "source": [
    "# Since we don't know if these loans were ever granted and how did they turned out. We don't have a Truth value for these.\n",
    "# y_test"
   ]
  },
  {
   "cell_type": "code",
   "execution_count": 57,
   "metadata": {
    "ExecuteTime": {
     "end_time": "2019-07-14T17:12:58.760491Z",
     "start_time": "2019-07-14T17:12:58.642194Z"
    },
    "hidden": true
   },
   "outputs": [],
   "source": [
    "X_test = X_test.drop(labels=['loan_repaid','loan_granted'], axis=1)"
   ]
  },
  {
   "cell_type": "markdown",
   "metadata": {
    "heading_collapsed": true,
    "hidden": true
   },
   "source": [
    "### Dividing into train and validation"
   ]
  },
  {
   "cell_type": "markdown",
   "metadata": {
    "hidden": true
   },
   "source": [
    "Since we don't have an actual test data to check our model peformance against. We will carve a small validation set which can be used to check accuracy after model is built."
   ]
  },
  {
   "cell_type": "code",
   "execution_count": 58,
   "metadata": {
    "ExecuteTime": {
     "end_time": "2019-07-14T17:12:59.740453Z",
     "start_time": "2019-07-14T17:12:58.762162Z"
    },
    "hidden": true
   },
   "outputs": [],
   "source": [
    "from sklearn.model_selection import train_test_split"
   ]
  },
  {
   "cell_type": "code",
   "execution_count": 59,
   "metadata": {
    "ExecuteTime": {
     "end_time": "2019-07-14T17:12:59.755513Z",
     "start_time": "2019-07-14T17:12:59.741451Z"
    },
    "hidden": true
   },
   "outputs": [],
   "source": [
    "X_train, X_val, y_train, y_val = train_test_split(X_train, y_train, test_size=0.20, random_state=101)"
   ]
  },
  {
   "cell_type": "markdown",
   "metadata": {
    "heading_collapsed": true,
    "hidden": true
   },
   "source": [
    "### Transformations"
   ]
  },
  {
   "cell_type": "code",
   "execution_count": 60,
   "metadata": {
    "ExecuteTime": {
     "end_time": "2019-07-14T17:12:59.885136Z",
     "start_time": "2019-07-14T17:12:59.756438Z"
    },
    "hidden": true
   },
   "outputs": [],
   "source": [
    "# Separately saving teh loan ids for later use\n",
    "X_train_loan_ids = X_train.pop('loan_id')\n",
    "X_test_loan_ids = X_test.pop('loan_id')\n",
    "X_val_loan_ids = X_val.pop('loan_id')"
   ]
  },
  {
   "cell_type": "code",
   "execution_count": 61,
   "metadata": {
    "ExecuteTime": {
     "end_time": "2019-07-14T17:12:59.954946Z",
     "start_time": "2019-07-14T17:12:59.887086Z"
    },
    "hidden": true
   },
   "outputs": [],
   "source": [
    "# A little index cleanup for minimal error\n",
    "X_train_loan_ids.reset_index(inplace=True, drop=True)\n",
    "X_test_loan_ids.reset_index(inplace=True, drop=True)\n",
    "X_val_loan_ids.reset_index(inplace=True, drop=True)"
   ]
  },
  {
   "cell_type": "code",
   "execution_count": 62,
   "metadata": {
    "ExecuteTime": {
     "end_time": "2019-07-14T17:13:00.035619Z",
     "start_time": "2019-07-14T17:12:59.955268Z"
    },
    "hidden": true
   },
   "outputs": [],
   "source": [
    "# A little index cleanup for minimal error\n",
    "X_train.reset_index(inplace=True, drop=True)\n",
    "X_test.reset_index(inplace=True, drop=True)\n",
    "X_val.reset_index(inplace=True, drop=True)"
   ]
  },
  {
   "cell_type": "code",
   "execution_count": 63,
   "metadata": {
    "ExecuteTime": {
     "end_time": "2019-07-14T17:13:00.139673Z",
     "start_time": "2019-07-14T17:13:00.037619Z"
    },
    "hidden": true
   },
   "outputs": [],
   "source": [
    "def common_tranformations(a):\n",
    "    \n",
    "    a[to_sqrt]= a[to_sqrt].apply(lambda x: np.sqrt(x))\n",
    "        \n",
    "    return a"
   ]
  },
  {
   "cell_type": "code",
   "execution_count": 64,
   "metadata": {
    "ExecuteTime": {
     "end_time": "2019-07-14T17:13:00.354392Z",
     "start_time": "2019-07-14T17:13:00.140659Z"
    },
    "hidden": true
   },
   "outputs": [],
   "source": [
    "# Applying transformations\n",
    "X_train = common_tranformations(X_train)\n",
    "X_test  = common_tranformations(X_test)\n",
    "X_val   = common_tranformations(X_val)"
   ]
  },
  {
   "cell_type": "code",
   "execution_count": 65,
   "metadata": {
    "ExecuteTime": {
     "end_time": "2019-07-14T17:13:02.848508Z",
     "start_time": "2019-07-14T17:13:02.835522Z"
    },
    "hidden": true
   },
   "outputs": [],
   "source": [
    "# This creates a python deep copy of pandas dataframe\n",
    "# This is for second algorithm since we are using little differnt encodings there\n",
    "X_train_rf = X_train.copy()\n",
    "X_test_rf = X_test.copy()\n",
    "X_val_rf = X_val.copy()"
   ]
  },
  {
   "cell_type": "markdown",
   "metadata": {
    "heading_collapsed": true
   },
   "source": [
    "## Data Modelling"
   ]
  },
  {
   "cell_type": "markdown",
   "metadata": {
    "heading_collapsed": true,
    "hidden": true
   },
   "source": [
    "### Non-Tree based Algorithm - KNN classifier"
   ]
  },
  {
   "cell_type": "markdown",
   "metadata": {
    "hidden": true
   },
   "source": [
    "K nearest neighbour classifier was chosen to set a baseline performace algorithm as it will simply decide people with similar characterics will act similarly. So if new customer having similar data to customers who reapy the loan comes for a loan can be expected to repay and not charge off. There were categorical features like is employed or first loan and loan purpose, so even using one hot encoding will leave us with an less than optimal model if we use logistic regression. Logistic regression with Principal Component Analysis and careful feature selection after checking Multicollinearity may yeild a good result with lesser features. Also, I wanted to try KNN classifier here."
   ]
  },
  {
   "cell_type": "markdown",
   "metadata": {
    "heading_collapsed": true,
    "hidden": true
   },
   "source": [
    "#### Data Transformations\n",
    "We will use One Hot Encoding for all categorical features since they work well with non tree based algorithms."
   ]
  },
  {
   "cell_type": "code",
   "execution_count": 66,
   "metadata": {
    "ExecuteTime": {
     "end_time": "2019-07-14T17:13:08.935943Z",
     "start_time": "2019-07-14T17:13:08.931920Z"
    },
    "hidden": true
   },
   "outputs": [],
   "source": [
    "# Taking care of the fully_repaid_previous_loan feature\n",
    "def knn_prev_loan_encoder(a):\n",
    "    \n",
    "    b = pd.get_dummies(data=a['loan_purpose'],prefix='purpose')\n",
    "    a = pd.concat([a,b], axis=1)\n",
    "    b = pd.get_dummies(data=a['fully_repaid_previous_loans'], dummy_na=True, prefix='prev_loan')\n",
    "    a = pd.concat([a,b], axis=1)\n",
    "    a = a.drop(['fully_repaid_previous_loans','loan_purpose'], axis=1)\n",
    "    \n",
    "    return a"
   ]
  },
  {
   "cell_type": "code",
   "execution_count": 67,
   "metadata": {
    "ExecuteTime": {
     "end_time": "2019-07-14T17:13:09.765417Z",
     "start_time": "2019-07-14T17:13:09.715553Z"
    },
    "hidden": true
   },
   "outputs": [],
   "source": [
    "X_train = knn_prev_loan_encoder(X_train)\n",
    "X_test = knn_prev_loan_encoder(X_test)\n",
    "X_val = knn_prev_loan_encoder(X_val)"
   ]
  },
  {
   "cell_type": "code",
   "execution_count": 68,
   "metadata": {
    "ExecuteTime": {
     "end_time": "2019-07-14T17:13:12.758564Z",
     "start_time": "2019-07-14T17:13:12.755572Z"
    },
    "hidden": true
   },
   "outputs": [],
   "source": [
    "from sklearn.preprocessing import MinMaxScaler\n",
    "scaler = MinMaxScaler()"
   ]
  },
  {
   "cell_type": "code",
   "execution_count": 69,
   "metadata": {
    "ExecuteTime": {
     "end_time": "2019-07-14T17:13:13.406627Z",
     "start_time": "2019-07-14T17:13:13.403635Z"
    },
    "hidden": true
   },
   "outputs": [],
   "source": [
    "from sklearn.model_selection import GridSearchCV"
   ]
  },
  {
   "cell_type": "code",
   "execution_count": 70,
   "metadata": {
    "ExecuteTime": {
     "end_time": "2019-07-14T17:13:14.010993Z",
     "start_time": "2019-07-14T17:13:13.980071Z"
    },
    "hidden": true
   },
   "outputs": [
    {
     "name": "stderr",
     "output_type": "stream",
     "text": [
      "C:\\Users\\Elysium\\Anaconda3\\lib\\site-packages\\sklearn\\preprocessing\\data.py:323: DataConversionWarning: Data with input dtype uint8, int64, float64 were all converted to float64 by MinMaxScaler.\n",
      "  return self.partial_fit(X, y)\n"
     ]
    }
   ],
   "source": [
    "X_train = scaler.fit_transform(X_train)"
   ]
  },
  {
   "cell_type": "code",
   "execution_count": 71,
   "metadata": {
    "ExecuteTime": {
     "end_time": "2019-07-14T17:13:15.484968Z",
     "start_time": "2019-07-14T17:13:15.452056Z"
    },
    "hidden": true
   },
   "outputs": [
    {
     "name": "stderr",
     "output_type": "stream",
     "text": [
      "C:\\Users\\Elysium\\Anaconda3\\lib\\site-packages\\sklearn\\preprocessing\\data.py:323: DataConversionWarning: Data with input dtype uint8, int64, float64 were all converted to float64 by MinMaxScaler.\n",
      "  return self.partial_fit(X, y)\n",
      "C:\\Users\\Elysium\\Anaconda3\\lib\\site-packages\\sklearn\\preprocessing\\data.py:323: DataConversionWarning: Data with input dtype uint8, int64, float64 were all converted to float64 by MinMaxScaler.\n",
      "  return self.partial_fit(X, y)\n"
     ]
    }
   ],
   "source": [
    "X_test = scaler.fit_transform(X_test)\n",
    "X_val = scaler.fit_transform(X_val)"
   ]
  },
  {
   "cell_type": "markdown",
   "metadata": {
    "heading_collapsed": true,
    "hidden": true
   },
   "source": [
    "#### Model training"
   ]
  },
  {
   "cell_type": "code",
   "execution_count": 72,
   "metadata": {
    "ExecuteTime": {
     "end_time": "2019-07-14T17:13:25.382969Z",
     "start_time": "2019-07-14T17:13:25.379978Z"
    },
    "hidden": true
   },
   "outputs": [],
   "source": [
    "# KNN grid search cv parameters\n",
    "knn_params = {'n_neighbors':[5,9,11], 'leaf_size':[20, 25, 30]}"
   ]
  },
  {
   "cell_type": "code",
   "execution_count": 73,
   "metadata": {
    "ExecuteTime": {
     "end_time": "2019-07-14T17:16:54.603564Z",
     "start_time": "2019-07-14T17:13:26.963954Z"
    },
    "hidden": true
   },
   "outputs": [
    {
     "name": "stdout",
     "output_type": "stream",
     "text": [
      "Fitting 5 folds for each of 9 candidates, totalling 45 fits\n"
     ]
    },
    {
     "name": "stderr",
     "output_type": "stream",
     "text": [
      "[Parallel(n_jobs=-1)]: Using backend LokyBackend with 8 concurrent workers.\n",
      "[Parallel(n_jobs=-1)]: Done   2 tasks      | elapsed:   34.2s\n",
      "[Parallel(n_jobs=-1)]: Done   9 tasks      | elapsed:  1.1min\n",
      "[Parallel(n_jobs=-1)]: Done  16 tasks      | elapsed:  1.2min\n",
      "[Parallel(n_jobs=-1)]: Done  25 tasks      | elapsed:  2.3min\n",
      "[Parallel(n_jobs=-1)]: Done  35 out of  45 | elapsed:  2.9min remaining:   49.9s\n",
      "[Parallel(n_jobs=-1)]: Done  40 out of  45 | elapsed:  3.1min remaining:   22.9s\n",
      "[Parallel(n_jobs=-1)]: Done  45 out of  45 | elapsed:  3.4min remaining:    0.0s\n",
      "[Parallel(n_jobs=-1)]: Done  45 out of  45 | elapsed:  3.4min finished\n"
     ]
    },
    {
     "data": {
      "text/plain": [
       "GridSearchCV(cv=5, error_score='raise-deprecating',\n",
       "       estimator=KNeighborsClassifier(algorithm='auto', leaf_size=30, metric='minkowski',\n",
       "           metric_params=None, n_jobs=None, n_neighbors=5, p=2,\n",
       "           weights='uniform'),\n",
       "       fit_params=None, iid='warn', n_jobs=-1,\n",
       "       param_grid={'n_neighbors': [5, 9, 11], 'leaf_size': [20, 25, 30]},\n",
       "       pre_dispatch='2*n_jobs', refit=True, return_train_score='warn',\n",
       "       scoring=None, verbose=10)"
      ]
     },
     "execution_count": 73,
     "metadata": {},
     "output_type": "execute_result"
    }
   ],
   "source": [
    "# Fitting the model here\n",
    "from sklearn.neighbors import KNeighborsClassifier\n",
    "grid = GridSearchCV(KNeighborsClassifier(), param_grid=knn_params, cv=5, verbose=10, n_jobs=-1)\n",
    "grid.fit(X_train, y_train)"
   ]
  },
  {
   "cell_type": "code",
   "execution_count": 74,
   "metadata": {
    "ExecuteTime": {
     "end_time": "2019-07-14T17:16:58.185034Z",
     "start_time": "2019-07-14T17:16:58.180046Z"
    },
    "hidden": true
   },
   "outputs": [
    {
     "data": {
      "text/plain": [
       "KNeighborsClassifier(algorithm='auto', leaf_size=20, metric='minkowski',\n",
       "           metric_params=None, n_jobs=None, n_neighbors=9, p=2,\n",
       "           weights='uniform')"
      ]
     },
     "execution_count": 74,
     "metadata": {},
     "output_type": "execute_result"
    }
   ],
   "source": [
    "grid.best_estimator_"
   ]
  },
  {
   "cell_type": "code",
   "execution_count": 75,
   "metadata": {
    "ExecuteTime": {
     "end_time": "2019-07-14T17:17:01.575239Z",
     "start_time": "2019-07-14T17:17:01.572275Z"
    },
    "hidden": true
   },
   "outputs": [],
   "source": [
    "# Using best model found\n",
    "knn = grid.best_estimator_"
   ]
  },
  {
   "cell_type": "code",
   "execution_count": 76,
   "metadata": {
    "ExecuteTime": {
     "end_time": "2019-07-14T17:17:03.695845Z",
     "start_time": "2019-07-14T17:17:02.699509Z"
    },
    "hidden": true
   },
   "outputs": [
    {
     "data": {
      "text/plain": [
       "KNeighborsClassifier(algorithm='auto', leaf_size=20, metric='minkowski',\n",
       "           metric_params=None, n_jobs=None, n_neighbors=9, p=2,\n",
       "           weights='uniform')"
      ]
     },
     "execution_count": 76,
     "metadata": {},
     "output_type": "execute_result"
    }
   ],
   "source": [
    "# Training best model on complete train data\n",
    "knn.fit(X_train, y_train)"
   ]
  },
  {
   "cell_type": "markdown",
   "metadata": {
    "heading_collapsed": true,
    "hidden": true
   },
   "source": [
    "### Model Evaluation "
   ]
  },
  {
   "cell_type": "code",
   "execution_count": 77,
   "metadata": {
    "ExecuteTime": {
     "end_time": "2019-07-14T17:17:05.334909Z",
     "start_time": "2019-07-14T17:17:05.331917Z"
    },
    "hidden": true,
    "scrolled": true
   },
   "outputs": [],
   "source": [
    "from sklearn.metrics import roc_curve\n",
    "from sklearn.metrics import auc\n",
    "from sklearn.metrics import confusion_matrix as cm"
   ]
  },
  {
   "cell_type": "code",
   "execution_count": 78,
   "metadata": {
    "ExecuteTime": {
     "end_time": "2019-07-14T17:17:06.193881Z",
     "start_time": "2019-07-14T17:17:06.188895Z"
    },
    "hidden": true
   },
   "outputs": [],
   "source": [
    "def roc_plot(pred_probs, y_true, typeofmodel):\n",
    "        \n",
    "    fpr, tpr, thresholds = roc_curve(y_true.values, pred_probs[:,1], pos_label=1)\n",
    "    roc_auc = auc(fpr, tpr)\n",
    "    \n",
    "    plt.figure()\n",
    "    plt.xlabel('False Positive Rate')\n",
    "    plt.ylabel('True Positive Rate')\n",
    "    plt.plot([0, 1], [0, 1], color='navy', linestyle='--')\n",
    "    plt.xlim([0.0, 1.0])\n",
    "    plt.ylim([0.0, 1.05])\n",
    "    plt.title('ROC Curve')\n",
    "    plt.plot(fpr, tpr, color='green', lw=2, label=typeofmodel+' ROC area = %0.2f)' % roc_auc)\n",
    "    plt.legend(loc=\"lower right\")\n",
    "    plt.show()"
   ]
  },
  {
   "cell_type": "markdown",
   "metadata": {
    "heading_collapsed": true,
    "hidden": true
   },
   "source": [
    "#### Performance on train set."
   ]
  },
  {
   "cell_type": "code",
   "execution_count": 79,
   "metadata": {
    "ExecuteTime": {
     "end_time": "2019-07-14T17:17:18.297327Z",
     "start_time": "2019-07-14T17:17:07.939930Z"
    },
    "hidden": true
   },
   "outputs": [],
   "source": [
    "pred = knn.predict(X_train)"
   ]
  },
  {
   "cell_type": "code",
   "execution_count": 80,
   "metadata": {
    "ExecuteTime": {
     "end_time": "2019-07-14T17:17:18.326176Z",
     "start_time": "2019-07-14T17:17:18.298227Z"
    },
    "hidden": true
   },
   "outputs": [
    {
     "data": {
      "text/plain": [
       "array([[12546,  1002],\n",
       "       [ 2359, 22216]], dtype=int64)"
      ]
     },
     "execution_count": 80,
     "metadata": {},
     "output_type": "execute_result"
    }
   ],
   "source": [
    "# Confusion Matrix\n",
    "cm(y_train, pred)"
   ]
  },
  {
   "cell_type": "code",
   "execution_count": 81,
   "metadata": {
    "ExecuteTime": {
     "end_time": "2019-07-14T17:17:30.073042Z",
     "start_time": "2019-07-14T17:17:20.179530Z"
    },
    "hidden": true
   },
   "outputs": [],
   "source": [
    "pred_probs = knn.predict_proba(X_train)"
   ]
  },
  {
   "cell_type": "code",
   "execution_count": 82,
   "metadata": {
    "ExecuteTime": {
     "end_time": "2019-07-14T17:17:31.003898Z",
     "start_time": "2019-07-14T17:17:30.916104Z"
    },
    "hidden": true
   },
   "outputs": [
    {
     "data": {
      "image/png": "[encoded data removed]",
      "text/plain": [
       "<Figure size 432x288 with 1 Axes>"
      ]
     },
     "metadata": {
      "needs_background": "light"
     },
     "output_type": "display_data"
    }
   ],
   "source": [
    "# Lets check how good the fit is on the Train dataset to avoid underfitting if any.\n",
    "roc_plot(pred_probs, y_train, 'KNN')"
   ]
  },
  {
   "cell_type": "markdown",
   "metadata": {
    "hidden": true
   },
   "source": [
    "The model seems ok and atleast it has learnt from dataset - Not Underfitted model"
   ]
  },
  {
   "cell_type": "markdown",
   "metadata": {
    "heading_collapsed": true,
    "hidden": true
   },
   "source": [
    "#### Performace on validation set - REAL PERFORMANCE"
   ]
  },
  {
   "cell_type": "code",
   "execution_count": 83,
   "metadata": {
    "ExecuteTime": {
     "end_time": "2019-07-14T17:17:44.615793Z",
     "start_time": "2019-07-14T17:17:41.971834Z"
    },
    "hidden": true
   },
   "outputs": [],
   "source": [
    "# Predictions on validation set\n",
    "pred = knn.predict(X_val)"
   ]
  },
  {
   "cell_type": "code",
   "execution_count": 84,
   "metadata": {
    "ExecuteTime": {
     "end_time": "2019-07-14T17:17:44.628728Z",
     "start_time": "2019-07-14T17:17:44.616761Z"
    },
    "hidden": true
   },
   "outputs": [
    {
     "data": {
      "text/plain": [
       "array([[2984,  416],\n",
       "       [ 601, 5530]], dtype=int64)"
      ]
     },
     "execution_count": 84,
     "metadata": {},
     "output_type": "execute_result"
    }
   ],
   "source": [
    "# Confusion Matrix\n",
    "cm(y_val, pred)"
   ]
  },
  {
   "cell_type": "code",
   "execution_count": 85,
   "metadata": {
    "ExecuteTime": {
     "end_time": "2019-07-14T17:17:47.849730Z",
     "start_time": "2019-07-14T17:17:45.356399Z"
    },
    "hidden": true
   },
   "outputs": [],
   "source": [
    "## Prediction probabilities on test set\n",
    "pred_probs = knn.predict_proba(X_val)"
   ]
  },
  {
   "cell_type": "code",
   "execution_count": 86,
   "metadata": {
    "ExecuteTime": {
     "end_time": "2019-07-14T17:17:48.681686Z",
     "start_time": "2019-07-14T17:17:48.595895Z"
    },
    "hidden": true
   },
   "outputs": [
    {
     "data": {
      "image/png": "[encoded data removed]",
      "text/plain": [
       "<Figure size 432x288 with 1 Axes>"
      ]
     },
     "metadata": {
      "needs_background": "light"
     },
     "output_type": "display_data"
    }
   ],
   "source": [
    "# ROC curve\n",
    "roc_plot(pred_probs, y_val, 'KNN')"
   ]
  },
  {
   "cell_type": "markdown",
   "metadata": {
    "heading_collapsed": true,
    "hidden": true
   },
   "source": [
    "### Tree based Model - Random Forest"
   ]
  },
  {
   "cell_type": "markdown",
   "metadata": {
    "hidden": true
   },
   "source": [
    "Random Forest Classifier performs well on a variety of data and it has best performance. It has many advantages over other models like it does not suffers from Dimensionality problem and A well tuning forest can give state of the art predictions. Although the interpretation of such a model is not that good. Again in our case, If a bank uses this model and really wants to understand its algorithm then it can be done by providing a sorted feature importance list. "
   ]
  },
  {
   "cell_type": "markdown",
   "metadata": {
    "heading_collapsed": true,
    "hidden": true
   },
   "source": [
    "#### Data transformations"
   ]
  },
  {
   "cell_type": "markdown",
   "metadata": {
    "hidden": true
   },
   "source": [
    "Fully repaid previous loans can be label encoded as-<br>\n",
    "1   - loan repaid - Positive point for borrower<br>\n",
    "0   - loan not repaid - Negative point for borrower<br>\n",
    "0.5 - first loan - Neutral with respect to borrower"
   ]
  },
  {
   "cell_type": "code",
   "execution_count": 87,
   "metadata": {
    "ExecuteTime": {
     "end_time": "2019-07-14T17:17:51.199116Z",
     "start_time": "2019-07-14T17:17:51.195126Z"
    },
    "hidden": true
   },
   "outputs": [],
   "source": [
    "# Taking care of the fully_repaid_previous_loan feature\n",
    "def rfc_prev_loan_encoder(a):\n",
    "    \n",
    "    a.loc[a.fully_repaid_previous_loans.isna(),'fully_repaid_previous_loans'] = 0.5\n",
    "    purpose_map = {'other':0, 'business': 1, 'investment': 2, 'emergency_funds': 3, 'home': 4}\n",
    "    a.loan_purpose = a.loan_purpose.map(purpose_map)\n",
    "    \n",
    "    return a"
   ]
  },
  {
   "cell_type": "code",
   "execution_count": 88,
   "metadata": {
    "ExecuteTime": {
     "end_time": "2019-07-14T17:17:51.748488Z",
     "start_time": "2019-07-14T17:17:51.740513Z"
    },
    "hidden": true
   },
   "outputs": [],
   "source": [
    "X_train_rf = rfc_prev_loan_encoder(X_train_rf)"
   ]
  },
  {
   "cell_type": "code",
   "execution_count": 89,
   "metadata": {
    "ExecuteTime": {
     "end_time": "2019-07-14T17:17:52.446835Z",
     "start_time": "2019-07-14T17:17:52.435838Z"
    },
    "hidden": true
   },
   "outputs": [],
   "source": [
    "X_test_rf = rfc_prev_loan_encoder(X_test_rf)\n",
    "X_val_rf = rfc_prev_loan_encoder(X_val_rf)"
   ]
  },
  {
   "cell_type": "markdown",
   "metadata": {
    "heading_collapsed": true,
    "hidden": true
   },
   "source": [
    "#### Model Training"
   ]
  },
  {
   "cell_type": "code",
   "execution_count": 90,
   "metadata": {
    "ExecuteTime": {
     "end_time": "2019-07-14T17:17:54.470842Z",
     "start_time": "2019-07-14T17:17:54.467850Z"
    },
    "hidden": true
   },
   "outputs": [],
   "source": [
    "rfc_params = {'max_depth':[3,5,7,9,11,13,15]}"
   ]
  },
  {
   "cell_type": "code",
   "execution_count": 91,
   "metadata": {
    "ExecuteTime": {
     "end_time": "2019-07-14T17:17:57.921126Z",
     "start_time": "2019-07-14T17:17:55.604322Z"
    },
    "hidden": true
   },
   "outputs": [
    {
     "name": "stdout",
     "output_type": "stream",
     "text": [
      "Fitting 5 folds for each of 7 candidates, totalling 35 fits\n"
     ]
    },
    {
     "name": "stderr",
     "output_type": "stream",
     "text": [
      "[Parallel(n_jobs=-1)]: Using backend LokyBackend with 8 concurrent workers.\n",
      "[Parallel(n_jobs=-1)]: Done   2 tasks      | elapsed:    0.2s\n",
      "[Parallel(n_jobs=-1)]: Done   9 tasks      | elapsed:    0.5s\n",
      "[Parallel(n_jobs=-1)]: Done  16 tasks      | elapsed:    0.7s\n",
      "[Parallel(n_jobs=-1)]: Done  24 out of  35 | elapsed:    1.2s remaining:    0.5s\n",
      "[Parallel(n_jobs=-1)]: Done  28 out of  35 | elapsed:    1.6s remaining:    0.3s\n",
      "[Parallel(n_jobs=-1)]: Done  32 out of  35 | elapsed:    1.7s remaining:    0.1s\n",
      "[Parallel(n_jobs=-1)]: Done  35 out of  35 | elapsed:    1.9s finished\n",
      "C:\\Users\\Elysium\\Anaconda3\\lib\\site-packages\\sklearn\\ensemble\\forest.py:458: UserWarning: Some inputs do not have OOB scores. This probably means too few trees were used to compute any reliable oob estimates.\n",
      "  warn(\"Some inputs do not have OOB scores. \"\n"
     ]
    },
    {
     "data": {
      "text/plain": [
       "GridSearchCV(cv=5, error_score='raise-deprecating',\n",
       "       estimator=RandomForestClassifier(bootstrap=True, class_weight=None, criterion='gini',\n",
       "            max_depth=None, max_features='auto', max_leaf_nodes=None,\n",
       "            min_impurity_decrease=0.0, min_impurity_split=None,\n",
       "            min_samples_leaf=1, min_samples_split=2,\n",
       "            min_weight_fraction_leaf=0.0, n_estimators='warn', n_jobs=None,\n",
       "            oob_score=True, random_state=None, verbose=0, warm_start=False),\n",
       "       fit_params=None, iid='warn', n_jobs=-1,\n",
       "       param_grid={'max_depth': [3, 5, 7, 9, 11, 13, 15]},\n",
       "       pre_dispatch='2*n_jobs', refit=True, return_train_score='warn',\n",
       "       scoring=None, verbose=10)"
      ]
     },
     "execution_count": 91,
     "metadata": {},
     "output_type": "execute_result"
    }
   ],
   "source": [
    "from sklearn.ensemble import RandomForestClassifier\n",
    "grid = GridSearchCV(RandomForestClassifier(oob_score=True), param_grid=rfc_params, cv=5, verbose=10, n_jobs=-1)\n",
    "grid.fit(X_train_rf, y_train)"
   ]
  },
  {
   "cell_type": "code",
   "execution_count": 92,
   "metadata": {
    "ExecuteTime": {
     "end_time": "2019-07-14T17:17:58.911871Z",
     "start_time": "2019-07-14T17:17:58.907889Z"
    },
    "hidden": true
   },
   "outputs": [
    {
     "data": {
      "text/plain": [
       "RandomForestClassifier(bootstrap=True, class_weight=None, criterion='gini',\n",
       "            max_depth=11, max_features='auto', max_leaf_nodes=None,\n",
       "            min_impurity_decrease=0.0, min_impurity_split=None,\n",
       "            min_samples_leaf=1, min_samples_split=2,\n",
       "            min_weight_fraction_leaf=0.0, n_estimators=10, n_jobs=None,\n",
       "            oob_score=True, random_state=None, verbose=0, warm_start=False)"
      ]
     },
     "execution_count": 92,
     "metadata": {},
     "output_type": "execute_result"
    }
   ],
   "source": [
    "grid.best_estimator_"
   ]
  },
  {
   "cell_type": "code",
   "execution_count": 93,
   "metadata": {
    "ExecuteTime": {
     "end_time": "2019-07-14T17:18:00.295946Z",
     "start_time": "2019-07-14T17:18:00.292955Z"
    },
    "hidden": true
   },
   "outputs": [],
   "source": [
    "# Using best model found\n",
    "rfc = grid.best_estimator_"
   ]
  },
  {
   "cell_type": "code",
   "execution_count": 94,
   "metadata": {
    "ExecuteTime": {
     "end_time": "2019-07-14T17:18:01.644730Z",
     "start_time": "2019-07-14T17:18:01.364506Z"
    },
    "hidden": true
   },
   "outputs": [
    {
     "name": "stderr",
     "output_type": "stream",
     "text": [
      "C:\\Users\\Elysium\\Anaconda3\\lib\\site-packages\\sklearn\\ensemble\\forest.py:458: UserWarning: Some inputs do not have OOB scores. This probably means too few trees were used to compute any reliable oob estimates.\n",
      "  warn(\"Some inputs do not have OOB scores. \"\n"
     ]
    },
    {
     "data": {
      "text/plain": [
       "RandomForestClassifier(bootstrap=True, class_weight=None, criterion='gini',\n",
       "            max_depth=11, max_features='auto', max_leaf_nodes=None,\n",
       "            min_impurity_decrease=0.0, min_impurity_split=None,\n",
       "            min_samples_leaf=1, min_samples_split=2,\n",
       "            min_weight_fraction_leaf=0.0, n_estimators=10, n_jobs=None,\n",
       "            oob_score=True, random_state=None, verbose=0, warm_start=False)"
      ]
     },
     "execution_count": 94,
     "metadata": {},
     "output_type": "execute_result"
    }
   ],
   "source": [
    "# Training best model on complete train data\n",
    "rfc.fit(X_train_rf, y_train)"
   ]
  },
  {
   "cell_type": "markdown",
   "metadata": {
    "heading_collapsed": true,
    "hidden": true
   },
   "source": [
    "### Model Evaluation "
   ]
  },
  {
   "cell_type": "markdown",
   "metadata": {
    "ExecuteTime": {
     "end_time": "2019-07-14T16:24:38.280902Z",
     "start_time": "2019-07-14T16:24:38.277910Z"
    },
    "heading_collapsed": true,
    "hidden": true
   },
   "source": [
    "#### Performance on train set"
   ]
  },
  {
   "cell_type": "code",
   "execution_count": 95,
   "metadata": {
    "ExecuteTime": {
     "end_time": "2019-07-14T17:18:04.052499Z",
     "start_time": "2019-07-14T17:18:04.011608Z"
    },
    "hidden": true
   },
   "outputs": [],
   "source": [
    "pred = rfc.predict(X_train_rf)"
   ]
  },
  {
   "cell_type": "code",
   "execution_count": 96,
   "metadata": {
    "ExecuteTime": {
     "end_time": "2019-07-14T17:18:04.814313Z",
     "start_time": "2019-07-14T17:18:04.788382Z"
    },
    "hidden": true
   },
   "outputs": [
    {
     "data": {
      "text/plain": [
       "array([[12756,   792],\n",
       "       [ 1531, 23044]], dtype=int64)"
      ]
     },
     "execution_count": 96,
     "metadata": {},
     "output_type": "execute_result"
    }
   ],
   "source": [
    "# Confusion Matrix\n",
    "cm(y_train, pred)"
   ]
  },
  {
   "cell_type": "code",
   "execution_count": 97,
   "metadata": {
    "ExecuteTime": {
     "end_time": "2019-07-14T17:18:14.309036Z",
     "start_time": "2019-07-14T17:18:14.268146Z"
    },
    "hidden": true
   },
   "outputs": [],
   "source": [
    "pred_probs = rfc.predict_proba(X_train_rf)"
   ]
  },
  {
   "cell_type": "code",
   "execution_count": 98,
   "metadata": {
    "ExecuteTime": {
     "end_time": "2019-07-14T17:18:15.997930Z",
     "start_time": "2019-07-14T17:18:15.909167Z"
    },
    "hidden": true
   },
   "outputs": [
    {
     "data": {
      "image/png": "[encoded data removed]",
      "text/plain": [
       "<Figure size 432x288 with 1 Axes>"
      ]
     },
     "metadata": {
      "needs_background": "light"
     },
     "output_type": "display_data"
    }
   ],
   "source": [
    "roc_plot(pred_probs, y_train, 'RFC')"
   ]
  },
  {
   "cell_type": "markdown",
   "metadata": {
    "heading_collapsed": true,
    "hidden": true
   },
   "source": [
    "#### Performance on validation set - REAL Performance"
   ]
  },
  {
   "cell_type": "code",
   "execution_count": 99,
   "metadata": {
    "ExecuteTime": {
     "end_time": "2019-07-14T17:18:18.441709Z",
     "start_time": "2019-07-14T17:18:18.427720Z"
    },
    "hidden": true
   },
   "outputs": [],
   "source": [
    "pred = rfc.predict(X_val_rf)"
   ]
  },
  {
   "cell_type": "code",
   "execution_count": 100,
   "metadata": {
    "ExecuteTime": {
     "end_time": "2019-07-14T17:18:19.205622Z",
     "start_time": "2019-07-14T17:18:19.195649Z"
    },
    "hidden": true
   },
   "outputs": [
    {
     "data": {
      "text/plain": [
       "array([[3074,  326],\n",
       "       [ 441, 5690]], dtype=int64)"
      ]
     },
     "execution_count": 100,
     "metadata": {},
     "output_type": "execute_result"
    }
   ],
   "source": [
    "# Confusion Matrix\n",
    "cm(y_val, pred)"
   ]
  },
  {
   "cell_type": "code",
   "execution_count": 101,
   "metadata": {
    "ExecuteTime": {
     "end_time": "2019-07-14T17:18:20.617426Z",
     "start_time": "2019-07-14T17:18:20.604459Z"
    },
    "hidden": true
   },
   "outputs": [],
   "source": [
    "pred_probs = rfc.predict_proba(X_val_rf)"
   ]
  },
  {
   "cell_type": "code",
   "execution_count": 102,
   "metadata": {
    "ExecuteTime": {
     "end_time": "2019-07-14T17:18:22.908688Z",
     "start_time": "2019-07-14T17:18:22.819896Z"
    },
    "hidden": true
   },
   "outputs": [
    {
     "data": {
      "image/png": "[encoded data removed]",
      "text/plain": [
       "<Figure size 432x288 with 1 Axes>"
      ]
     },
     "metadata": {
      "needs_background": "light"
     },
     "output_type": "display_data"
    }
   ],
   "source": [
    "roc_plot(pred_probs, y_val, 'RFC')"
   ]
  },
  {
   "cell_type": "markdown",
   "metadata": {
    "hidden": true
   },
   "source": [
    "`Train AUC score`   `Test AUC Score`<br>\n",
    "`KNN model` --   0.97    ---               0.96<br>\n",
    "`RFC model` --   0.99    ---               0.97"
   ]
  },
  {
   "cell_type": "markdown",
   "metadata": {
    "hidden": true
   },
   "source": [
    "It looks like RFC model is a bit overfitted as we see 0.02 decrease in AUC score when tested on unseen data. But still it performs better than KNN model. It can be further optimized by a better cross validation and hyperparameter tuning.\n",
    "If we throw in some really nice feature engineering then the model AUC score of 0.99 on unseen data can be achieved too."
   ]
  },
  {
   "cell_type": "markdown",
   "metadata": {
    "heading_collapsed": true
   },
   "source": [
    "## Final Predictions"
   ]
  },
  {
   "cell_type": "markdown",
   "metadata": {
    "hidden": true
   },
   "source": [
    "Using Random Forest model for final predictions as it has better performance."
   ]
  },
  {
   "cell_type": "code",
   "execution_count": 103,
   "metadata": {
    "ExecuteTime": {
     "end_time": "2019-07-14T17:18:29.451801Z",
     "start_time": "2019-07-14T17:18:29.395920Z"
    },
    "hidden": true
   },
   "outputs": [],
   "source": [
    "results = pd.Series(rfc.predict(X_test_rf))"
   ]
  },
  {
   "cell_type": "code",
   "execution_count": 104,
   "metadata": {
    "ExecuteTime": {
     "end_time": "2019-07-14T17:18:38.055364Z",
     "start_time": "2019-07-14T17:18:38.052372Z"
    },
    "hidden": true
   },
   "outputs": [],
   "source": [
    "result = pd.DataFrame({'loan_id': X_test_loan_ids, 'Predictions': results})"
   ]
  },
  {
   "cell_type": "code",
   "execution_count": 105,
   "metadata": {
    "ExecuteTime": {
     "end_time": "2019-07-14T17:18:39.066406Z",
     "start_time": "2019-07-14T17:18:39.060422Z"
    },
    "hidden": true
   },
   "outputs": [
    {
     "data": {
      "text/html": [
       "<div>\n",
       "<style scoped>\n",
       "    .dataframe tbody tr th:only-of-type {\n",
       "        vertical-align: middle;\n",
       "    }\n",
       "\n",
       "    .dataframe tbody tr th {\n",
       "        vertical-align: top;\n",
       "    }\n",
       "\n",
       "    .dataframe thead th {\n",
       "        text-align: right;\n",
       "    }\n",
       "</style>\n",
       "<table border=\"1\" class=\"dataframe\">\n",
       "  <thead>\n",
       "    <tr style=\"text-align: right;\">\n",
       "      <th></th>\n",
       "      <th>loan_id</th>\n",
       "      <th>Predictions</th>\n",
       "    </tr>\n",
       "  </thead>\n",
       "  <tbody>\n",
       "    <tr>\n",
       "      <th>0</th>\n",
       "      <td>19454</td>\n",
       "      <td>1.0</td>\n",
       "    </tr>\n",
       "    <tr>\n",
       "      <th>1</th>\n",
       "      <td>496811</td>\n",
       "      <td>1.0</td>\n",
       "    </tr>\n",
       "    <tr>\n",
       "      <th>2</th>\n",
       "      <td>929493</td>\n",
       "      <td>0.0</td>\n",
       "    </tr>\n",
       "    <tr>\n",
       "      <th>3</th>\n",
       "      <td>77085</td>\n",
       "      <td>0.0</td>\n",
       "    </tr>\n",
       "    <tr>\n",
       "      <th>4</th>\n",
       "      <td>422392</td>\n",
       "      <td>0.0</td>\n",
       "    </tr>\n",
       "  </tbody>\n",
       "</table>\n",
       "</div>"
      ],
      "text/plain": [
       "   loan_id  Predictions\n",
       "0    19454          1.0\n",
       "1   496811          1.0\n",
       "2   929493          0.0\n",
       "3    77085          0.0\n",
       "4   422392          0.0"
      ]
     },
     "execution_count": 105,
     "metadata": {},
     "output_type": "execute_result"
    }
   ],
   "source": [
    "result.head()"
   ]
  },
  {
   "cell_type": "code",
   "execution_count": 107,
   "metadata": {
    "ExecuteTime": {
     "end_time": "2019-07-14T17:19:59.817422Z",
     "start_time": "2019-07-14T17:19:59.684695Z"
    },
    "hidden": true
   },
   "outputs": [],
   "source": [
    "result.to_csv('resuts.csv',index=False)"
   ]
  },
  {
   "cell_type": "markdown",
   "metadata": {
    "hidden": true
   },
   "source": [
    "To get maximum profits, banks should definitely provide loans to loan_ids with predictions 1 and scrutinize other applicants with prediction 0. They can decide the mix of loans to provide based on their appetite. We can help bank further in by providing the prediction probabilites instead."
   ]
  }
 ],
 "metadata": {
  "kernelspec": {
   "display_name": "Python 3",
   "language": "python",
   "name": "python3"
  },
  "language_info": {
   "codemirror_mode": {
    "name": "ipython",
    "version": 3
   },
   "file_extension": ".py",
   "mimetype": "text/x-python",
   "name": "python",
   "nbconvert_exporter": "python",
   "pygments_lexer": "ipython3",
   "version": "3.7.1"
  },
  "toc": {
   "base_numbering": 1,
   "nav_menu": {},
   "number_sections": true,
   "sideBar": true,
   "skip_h1_title": false,
   "title_cell": "Table of Contents",
   "title_sidebar": "Contents",
   "toc_cell": false,
   "toc_position": {
    "height": "calc(100% - 180px)",
    "left": "10px",
    "top": "150px",
    "width": "384px"
   },
   "toc_section_display": true,
   "toc_window_display": false
  }
 },
 "nbformat": 4,
 "nbformat_minor": 2
}
